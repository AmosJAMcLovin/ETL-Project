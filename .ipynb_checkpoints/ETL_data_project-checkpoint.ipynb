{
 "cells": [
  {
   "cell_type": "code",
   "execution_count": 7,
   "metadata": {},
   "outputs": [],
   "source": [
    "import pandas as pd\n",
    "import csv\n",
    "import sys, json\n",
    "from sqlalchemy import create_engine\n",
    "import psycopg2\n",
    "import pymongo\n",
    "import datetime\n",
    "import numpy as np\n",
    "np.random.seed(1)\n",
    "import requests\n",
    "from pprint import pprint\n",
    "import matplotlib.pyplot as plt\n",
    "from flask import jsonify\n",
    "import company_domain\n",
    "company_domain=company_domain.company_domain"
   ]
  },
  {
   "cell_type": "markdown",
   "metadata": {},
   "source": [
    "# Extraction"
   ]
  },
  {
   "cell_type": "markdown",
   "metadata": {},
   "source": [
    "##  Go to the files path to extract Inc 5000 Americas Fastest Growing Companies list"
   ]
  },
  {
   "cell_type": "code",
   "execution_count": 18,
   "metadata": {},
   "outputs": [],
   "source": [
    "# The path to our CSV files to extract all Inc 5000 company list\n",
    "\n",
    "# 2019 Inc 5000 company list\n",
    "Inc_2019_csv = \"Resources/inc5000-2019.csv\"\n",
    "# 2018 Inc 5000 company list\n",
    "Inc_2018_csv = \"Resources/inc5000-2018.csv\"\n",
    "# 2007-2017 Inc 5000 company list\n",
    "Inc_10year_csv =\"Resources/inc5000_all10years.csv\"\n"
   ]
  },
  {
   "cell_type": "markdown",
   "metadata": {},
   "source": [
    "### Read the files"
   ]
  },
  {
   "cell_type": "code",
   "execution_count": 19,
   "metadata": {},
   "outputs": [],
   "source": [
    "# Read csv file\n",
    "# Read 2019 Inc 5000 company list\n",
    "Inc_2019_df = pd.read_csv(Inc_2019_csv)\n",
    "\n",
    "# Read 2018 Inc 5000 company list\n",
    "Inc_2018_df = pd.read_csv(Inc_2018_csv)\n",
    "\n",
    "\n",
    "# Read 2007-2017 Inc 5000 company list\n",
    "Inc_10year_df = pd.read_csv(Inc_10year_csv,encoding='cp1252')"
   ]
  },
  {
   "cell_type": "markdown",
   "metadata": {},
   "source": [
    "## Scraping Financial Times Americas Fastest Growing Companies 2020"
   ]
  },
  {
   "cell_type": "code",
   "execution_count": 10,
   "metadata": {},
   "outputs": [],
   "source": [
    "# Financial times url to scrape\n",
    "ft_url = 'https://www.ft.com/americas-fastest-growing-companies-2020'"
   ]
  },
  {
   "cell_type": "code",
   "execution_count": 11,
   "metadata": {},
   "outputs": [],
   "source": [
    "# read the html file for scarping tables \n",
    "ft_tables= pd.read_html(ft_url)"
   ]
  },
  {
   "cell_type": "code",
   "execution_count": 12,
   "metadata": {},
   "outputs": [
    {
     "data": {
      "text/plain": [
       "list"
      ]
     },
     "execution_count": 12,
     "metadata": {},
     "output_type": "execute_result"
    }
   ],
   "source": [
    "# check it's type\n",
    "type(ft_tables)"
   ]
  },
  {
   "cell_type": "code",
   "execution_count": 13,
   "metadata": {},
   "outputs": [
    {
     "data": {
      "text/plain": [
       "1"
      ]
     },
     "execution_count": 13,
     "metadata": {},
     "output_type": "execute_result"
    }
   ],
   "source": [
    "# Check how many tables are there \n",
    "len(ft_tables)"
   ]
  },
  {
   "cell_type": "code",
   "execution_count": 14,
   "metadata": {},
   "outputs": [],
   "source": [
    "# scrape the the first table \n",
    "\n",
    "ft_tables_df = ft_tables[0]"
   ]
  },
  {
   "cell_type": "code",
   "execution_count": 88,
   "metadata": {},
   "outputs": [
    {
     "data": {
      "text/html": [
       "<div>\n",
       "<style scoped>\n",
       "    .dataframe tbody tr th:only-of-type {\n",
       "        vertical-align: middle;\n",
       "    }\n",
       "\n",
       "    .dataframe tbody tr th {\n",
       "        vertical-align: top;\n",
       "    }\n",
       "\n",
       "    .dataframe thead th {\n",
       "        text-align: right;\n",
       "    }\n",
       "</style>\n",
       "<table border=\"1\" class=\"dataframe\">\n",
       "  <thead>\n",
       "    <tr style=\"text-align: right;\">\n",
       "      <th></th>\n",
       "      <th>Rank</th>\n",
       "      <th>Company_Name</th>\n",
       "      <th>Country</th>\n",
       "      <th>Industry</th>\n",
       "      <th>Growth_rate_%</th>\n",
       "      <th>Compound_annual_growth_rate_%</th>\n",
       "      <th>Founding_year</th>\n",
       "      <th>Rank_year</th>\n",
       "    </tr>\n",
       "  </thead>\n",
       "  <tbody>\n",
       "    <tr>\n",
       "      <th>0</th>\n",
       "      <td>1</td>\n",
       "      <td>Niantic</td>\n",
       "      <td>United States</td>\n",
       "      <td>Games industry</td>\n",
       "      <td>180306.6</td>\n",
       "      <td>1117.4</td>\n",
       "      <td>2015</td>\n",
       "      <td>2020</td>\n",
       "    </tr>\n",
       "    <tr>\n",
       "      <th>1</th>\n",
       "      <td>2</td>\n",
       "      <td>UiPath</td>\n",
       "      <td>United States</td>\n",
       "      <td>Technology</td>\n",
       "      <td>37463.5</td>\n",
       "      <td>621.5</td>\n",
       "      <td>2005</td>\n",
       "      <td>2020</td>\n",
       "    </tr>\n",
       "    <tr>\n",
       "      <th>2</th>\n",
       "      <td>3</td>\n",
       "      <td>Publisher First (Freestar)</td>\n",
       "      <td>United States</td>\n",
       "      <td>Advertising</td>\n",
       "      <td>36680.1</td>\n",
       "      <td>616.5</td>\n",
       "      <td>2015</td>\n",
       "      <td>2020</td>\n",
       "    </tr>\n",
       "    <tr>\n",
       "      <th>3</th>\n",
       "      <td>4</td>\n",
       "      <td>FreightWise</td>\n",
       "      <td>United States</td>\n",
       "      <td>Transport</td>\n",
       "      <td>30547.9</td>\n",
       "      <td>574.2</td>\n",
       "      <td>2015</td>\n",
       "      <td>2020</td>\n",
       "    </tr>\n",
       "    <tr>\n",
       "      <th>4</th>\n",
       "      <td>5</td>\n",
       "      <td>Veggie Noodle Co.</td>\n",
       "      <td>United States</td>\n",
       "      <td>Food &amp; Beverage</td>\n",
       "      <td>24074.8</td>\n",
       "      <td>523.0</td>\n",
       "      <td>2015</td>\n",
       "      <td>2020</td>\n",
       "    </tr>\n",
       "  </tbody>\n",
       "</table>\n",
       "</div>"
      ],
      "text/plain": [
       "   Rank                Company_Name        Country         Industry  \\\n",
       "0     1                     Niantic  United States   Games industry   \n",
       "1     2                      UiPath  United States       Technology   \n",
       "2     3  Publisher First (Freestar)  United States      Advertising   \n",
       "3     4                 FreightWise  United States        Transport   \n",
       "4     5           Veggie Noodle Co.  United States  Food & Beverage   \n",
       "\n",
       "   Growth_rate_%  Compound_annual_growth_rate_%  Founding_year Rank_year  \n",
       "0       180306.6                         1117.4           2015      2020  \n",
       "1        37463.5                          621.5           2005      2020  \n",
       "2        36680.1                          616.5           2015      2020  \n",
       "3        30547.9                          574.2           2015      2020  \n",
       "4        24074.8                          523.0           2015      2020  "
      ]
     },
     "execution_count": 88,
     "metadata": {},
     "output_type": "execute_result"
    }
   ],
   "source": [
    "# Transforming scraped data\n",
    "\n",
    "# Drop column we don't need\n",
    "drop_ft_columns=ft_tables_df.drop(['Revenue 2018 [in $m]','Revenue 2015 [in $m]','Number of employees 2018'], axis=1)\n",
    "\n",
    "\n",
    "# Remove unnecessary sign \"*\" from the first column \n",
    "\n",
    "drop_ft_columns['Name'] = drop_ft_columns['Name'].str.replace(r'*', '')\n",
    "\n",
    "# rename columns \n",
    "rename_ft_df=drop_ft_columns.rename(columns={\"Name\":\"Company_Name\",\"FT category\":\"Industry\",\"Absolute growth rate [in %]\":\"Growth_rate_%\",\"Compound annual growth rate (CAGR) [in %]\":\"Compound_annual_growth_rate_%\",\"Founding Year\":\"Founding_year\"})\n",
    "\n",
    "# Add the year column \n",
    "rename_ft_df['Rank_year']= '2020'\n",
    "\n",
    "rename_ft_df['Country']= 'United States'\n",
    "\n",
    "# drop null values Growth\n",
    "\n",
    "rename_ft_df=rename_ft_df.dropna(axis=1,how='all')\n",
    "\n",
    "# remove duplicates and show clean data\n",
    "\n",
    "clean_ft_df=rename_ft_df.drop_duplicates()\n",
    "clean_ft_df.head()"
   ]
  },
  {
   "cell_type": "markdown",
   "metadata": {},
   "source": [
    "## API Call for Scraping Growjo top 1000 fastest growing companies in 2020."
   ]
  },
  {
   "cell_type": "code",
   "execution_count": 32,
   "metadata": {},
   "outputs": [],
   "source": [
    "\n",
    "base_url = \"https://growjo.com/api?url=\"\n",
    "\n",
    "ranking = []\n",
    "estimated_revenues = []\n",
    "job_openings = []\n",
    "company_name = []\n",
    "city = []\n",
    "country = []\n",
    "state = []\n",
    "employees = []\n",
    "founded = []\n",
    "linkedin_url = []\n",
    "url = []\n",
    "industry = []\n",
    "total_funding = []\n",
    "\n",
    "for domain in company_domain:\n",
    "    target_url = base_url + domain\n",
    "    data = requests.get(target_url)\n",
    "    try:\n",
    "        response = data.json()\n",
    "    except ValueError:\n",
    "        pass\n",
    "    ranking.append(response['ranking'])\n",
    "    estimated_revenues.append(response['estimated_revenues'])\n",
    "    company_name.append(response['company_name'])\n",
    "    city.append(response['city'])\n",
    "    country.append(response['country'])\n",
    "    state.append(response['state'])\n",
    "    employees.append(response['employees'])\n",
    "    founded.append(response['founded'])\n",
    "    url.append(response['url'])\n",
    "    industry.append(response['industry'])\n",
    "    total_funding.append(response['total_funding'])\n",
    "    "
   ]
  },
  {
   "cell_type": "code",
   "execution_count": 75,
   "metadata": {},
   "outputs": [],
   "source": [
    "growjo_df = pd.DataFrame({\n",
    "    \"Rank\":ranking,\n",
    "    \"Revenue_$\":estimated_revenues,\n",
    "    \"Company_name\": company_name,\n",
    "    \"City\":city,\n",
    "    \"Country\":country,\n",
    "    \"State\":state,\n",
    "    \"Number_of_employees\":employees,\n",
    "    \"Founding_year\":founded,\n",
    "    \"Industry\":industry,\n",
    "    \"Total_funding\":total_funding\n",
    "})\n",
    "\n",
    "# Remove duplicate values\n",
    "growjo_df=growjo_df.drop_duplicates()\n",
    "#growjo_df.head()"
   ]
  },
  {
   "cell_type": "code",
   "execution_count": 74,
   "metadata": {},
   "outputs": [
    {
     "data": {
      "text/html": [
       "<div>\n",
       "<style scoped>\n",
       "    .dataframe tbody tr th:only-of-type {\n",
       "        vertical-align: middle;\n",
       "    }\n",
       "\n",
       "    .dataframe tbody tr th {\n",
       "        vertical-align: top;\n",
       "    }\n",
       "\n",
       "    .dataframe thead th {\n",
       "        text-align: right;\n",
       "    }\n",
       "</style>\n",
       "<table border=\"1\" class=\"dataframe\">\n",
       "  <thead>\n",
       "    <tr style=\"text-align: right;\">\n",
       "      <th></th>\n",
       "      <th>Rank</th>\n",
       "      <th>Revenue_$</th>\n",
       "      <th>Company_name</th>\n",
       "      <th>City</th>\n",
       "      <th>Country</th>\n",
       "      <th>State</th>\n",
       "      <th>Number_of_employees</th>\n",
       "      <th>Founding_year</th>\n",
       "      <th>Industry</th>\n",
       "      <th>Total_funding</th>\n",
       "      <th>Rank_year</th>\n",
       "    </tr>\n",
       "  </thead>\n",
       "  <tbody>\n",
       "    <tr>\n",
       "      <th>0</th>\n",
       "      <td>1.0</td>\n",
       "      <td>36450000.0</td>\n",
       "      <td>LetsGetChecked</td>\n",
       "      <td>New York</td>\n",
       "      <td>United States</td>\n",
       "      <td>NY</td>\n",
       "      <td>135</td>\n",
       "      <td>2014.0</td>\n",
       "      <td>Hospital/Healthcare</td>\n",
       "      <td>$113M</td>\n",
       "      <td>2020</td>\n",
       "    </tr>\n",
       "    <tr>\n",
       "      <th>1</th>\n",
       "      <td>701.0</td>\n",
       "      <td>13120000.0</td>\n",
       "      <td>100 Thieves</td>\n",
       "      <td>Los Angeles</td>\n",
       "      <td>United States</td>\n",
       "      <td>CA</td>\n",
       "      <td>64</td>\n",
       "      <td>2017.0</td>\n",
       "      <td>Entertainment</td>\n",
       "      <td>None</td>\n",
       "      <td>2020</td>\n",
       "    </tr>\n",
       "    <tr>\n",
       "      <th>2</th>\n",
       "      <td>832.0</td>\n",
       "      <td>97340000.0</td>\n",
       "      <td>10X Genomics</td>\n",
       "      <td>Pleasanton</td>\n",
       "      <td>United States</td>\n",
       "      <td>CA</td>\n",
       "      <td>628</td>\n",
       "      <td>2012.0</td>\n",
       "      <td>Biotech</td>\n",
       "      <td>$242.6M</td>\n",
       "      <td>2020</td>\n",
       "    </tr>\n",
       "    <tr>\n",
       "      <th>3</th>\n",
       "      <td>124.0</td>\n",
       "      <td>29870000.0</td>\n",
       "      <td>15Five</td>\n",
       "      <td>San Francisco</td>\n",
       "      <td>United States</td>\n",
       "      <td>CA</td>\n",
       "      <td>206</td>\n",
       "      <td>2011.0</td>\n",
       "      <td>Tech Services</td>\n",
       "      <td>$42.1M</td>\n",
       "      <td>2020</td>\n",
       "    </tr>\n",
       "    <tr>\n",
       "      <th>4</th>\n",
       "      <td>941.0</td>\n",
       "      <td>10793000.0</td>\n",
       "      <td>2ULaundry</td>\n",
       "      <td>Charlotte</td>\n",
       "      <td>United States</td>\n",
       "      <td>NC</td>\n",
       "      <td>43</td>\n",
       "      <td>2015.0</td>\n",
       "      <td>Consumer</td>\n",
       "      <td>None</td>\n",
       "      <td>2020</td>\n",
       "    </tr>\n",
       "  </tbody>\n",
       "</table>\n",
       "</div>"
      ],
      "text/plain": [
       "    Rank   Revenue_$    Company_name           City        Country State  \\\n",
       "0    1.0  36450000.0  LetsGetChecked       New York  United States    NY   \n",
       "1  701.0  13120000.0     100 Thieves    Los Angeles  United States    CA   \n",
       "2  832.0  97340000.0    10X Genomics     Pleasanton  United States    CA   \n",
       "3  124.0  29870000.0          15Five  San Francisco  United States    CA   \n",
       "4  941.0  10793000.0       2ULaundry      Charlotte  United States    NC   \n",
       "\n",
       "   Number_of_employees  Founding_year             Industry Total_funding  \\\n",
       "0                  135         2014.0  Hospital/Healthcare         $113M   \n",
       "1                   64         2017.0        Entertainment          None   \n",
       "2                  628         2012.0              Biotech       $242.6M   \n",
       "3                  206         2011.0        Tech Services        $42.1M   \n",
       "4                   43         2015.0             Consumer          None   \n",
       "\n",
       "  Rank_year  \n",
       "0      2020  \n",
       "1      2020  \n",
       "2      2020  \n",
       "3      2020  \n",
       "4      2020  "
      ]
     },
     "execution_count": 74,
     "metadata": {},
     "output_type": "execute_result"
    }
   ],
   "source": [
    "# Transforming Growjo top 1000 fastest growing companies in 2020\n",
    "    \n",
    "# Add the year column \n",
    "growjo_df['Rank_year']= '2020'\n",
    "\n",
    "# drop null values\n",
    "\n",
    "growjo_df=growjo_df.dropna(axis=1,how='all')\n",
    "\n",
    "# remove duplicates and show clean data\n",
    "\n",
    "clean_growjo_df=growjo_df.drop_duplicates()\n",
    "clean_growjo_df.head()"
   ]
  },
  {
   "cell_type": "markdown",
   "metadata": {},
   "source": [
    "# Transforming"
   ]
  },
  {
   "cell_type": "markdown",
   "metadata": {},
   "source": [
    "### Cleaning 2019 Inc 5000 company list"
   ]
  },
  {
   "cell_type": "code",
   "execution_count": 82,
   "metadata": {},
   "outputs": [],
   "source": [
    "# Drop column we don't need\n",
    "drop_column_2019=Inc_2019_df.drop(['Profile','_ - previous_workers','_ - founded','_ - metro','url','_ - yrs_on_list'], axis=1)\n",
    "\n",
    "# Add the year column \n",
    "drop_column_2019['Rank_year']= '2019'\n",
    "\n",
    "# Rename columns \n",
    "rename_df_2019= drop_column_2019.rename(columns={\"_ - rank\":\"Rank\",\"name\":\"Company_name\",\"state\":\"State\",\"_ - revenue\":\"Revenue_$\",\"_ - growth\":\"Growth_rate_%\",\"_ - industry\":\"Industry\",\"_ - workers\":\"Number_of_employees\",\"city\":\"City\"})\n",
    "\n",
    "\n",
    "# re-Order the data to suitable format\n",
    "\n",
    "cleaned_2019_df =rename_df_2019[['Rank','Rank_year','Company_name','Industry','Number_of_employees','Revenue_$','Growth_rate_%','City','State']]\n",
    "#cleaned_2019_df.head()"
   ]
  },
  {
   "cell_type": "markdown",
   "metadata": {},
   "source": [
    "### Cleaning 2018 Inc 5000 company list"
   ]
  },
  {
   "cell_type": "code",
   "execution_count": 83,
   "metadata": {},
   "outputs": [],
   "source": [
    "# Drop column we don't need\n",
    "\n",
    "drop_column_2018=Inc_2018_df.drop(['_ - id','_ - zipcode','_ - ifmid','_ - latitude','_ - longitude','_ - website','_ - state_l','_ - metrocode','_ - ifiid','_ - previous_workers','_ - metro','_ - founded','_ - url','_ - partner_lists - partner_lists','_ - yrs_on_list'], axis=1)\n",
    "\n",
    "# Add the year column \n",
    "drop_column_2018['Rank_year']= '2018'\n",
    "\n",
    "# Rename columns \n",
    "rename_df_2018=drop_column_2018.rename(columns={\"_ - rank\":\"Rank\",\"_ - company\":\"Company_name\",\"_ - state_s\":\"State\",\"_ - revenue\":\"Revenue_$\",\"_ - growth\":\"Growth_rate_%\",\"_ - industry\":\"Industry\",\"_ - workers\":\"Number_of_employees\",\"_ - state_l\":\"State\",\"_ - city\":\"City\"})\n",
    "rename_df_2018.head()\n",
    "\n",
    "# Normalizing revenue in to mellions \n",
    "rename_df_2018['Revenue_$']= (rename_df_2018['Revenue_$']/1000000).apply(lambda x: '{:,.1f} Million'.format(x))\n",
    "\n",
    "\n",
    "cleaned_2018_df =rename_df_2018[['Rank','Rank_year','Company_name','Industry','Number_of_employees','Revenue_$','Growth_rate_%','City','State']]\n",
    "\n",
    "#cleaned_2018_df.head()\n",
    "\n"
   ]
  },
  {
   "cell_type": "markdown",
   "metadata": {},
   "source": [
    "### Cleaning 10 year (2007-2017) Inc 5000 company list"
   ]
  },
  {
   "cell_type": "code",
   "execution_count": 84,
   "metadata": {},
   "outputs": [],
   "source": [
    "# Rename columns \n",
    "\n",
    "drop_column_10year_df=Inc_10year_df.drop(['_ - state_l','_ - metro','_ - yrs_on_list'],axis=1)\n",
    "\n",
    "# Add the year column \n",
    "rename_10year_df=drop_column_10year_df.rename(columns={\"year\":\"Rank_year\",\"_ - rank\":\"Rank\",\"_ - company\":\"Company_name\",\"_ - website\":\"Company_Website\",\"_ - state_s\":\"State\",\"_ - revenue\":\"Revenue_$\",\"_ - growth\":\"Growth_rate_%\",\"_ - industry\":\"Industry\",\"_ - workers\":\"Number_of_employees\",\"_ - founded\":\"Founded_Year\",\"_ - city\":\"City\"})\n",
    "\n",
    "\n",
    "# Normalizing revenue in to mellions \n",
    "rename_10year_df['Revenue_$']= (rename_10year_df['Revenue_$']/1000000).apply(lambda x: '{:,.1f} Million'.format(x))\n",
    "\n",
    "cleaned_10year_df =rename_10year_df[['Rank','Rank_year','Company_name','Industry','Number_of_employees','Revenue_$','Growth_rate_%','City','State']]\n",
    "\n",
    "# cleaned_10year_df.head()\n",
    "\n"
   ]
  },
  {
   "cell_type": "markdown",
   "metadata": {},
   "source": [
    "#### Combine all Inc 5000 data in to a single dataframe"
   ]
  },
  {
   "cell_type": "code",
   "execution_count": 85,
   "metadata": {},
   "outputs": [],
   "source": [
    "# combine all data in to a single dataframe\n",
    "combine_data =[cleaned_2018_df,cleaned_2019_df,cleaned_10year_df]\n",
    "Inc_5000_df= pd.concat(combine_data)"
   ]
  },
  {
   "cell_type": "code",
   "execution_count": 93,
   "metadata": {},
   "outputs": [
    {
     "data": {
      "text/html": [
       "<div>\n",
       "<style scoped>\n",
       "    .dataframe tbody tr th:only-of-type {\n",
       "        vertical-align: middle;\n",
       "    }\n",
       "\n",
       "    .dataframe tbody tr th {\n",
       "        vertical-align: top;\n",
       "    }\n",
       "\n",
       "    .dataframe thead th {\n",
       "        text-align: right;\n",
       "    }\n",
       "</style>\n",
       "<table border=\"1\" class=\"dataframe\">\n",
       "  <thead>\n",
       "    <tr style=\"text-align: right;\">\n",
       "      <th></th>\n",
       "      <th>Rank</th>\n",
       "      <th>Rank_year</th>\n",
       "      <th>Company_name</th>\n",
       "      <th>Industry</th>\n",
       "      <th>Number_of_employees</th>\n",
       "      <th>Revenue_$</th>\n",
       "      <th>Growth_rate_%</th>\n",
       "      <th>City</th>\n",
       "      <th>State</th>\n",
       "      <th>Company_id</th>\n",
       "      <th>Country</th>\n",
       "      <th>Company_Id</th>\n",
       "      <th>Company_ID</th>\n",
       "    </tr>\n",
       "  </thead>\n",
       "  <tbody>\n",
       "    <tr>\n",
       "      <th>0</th>\n",
       "      <td>1.0</td>\n",
       "      <td>2018</td>\n",
       "      <td>SwanLeap</td>\n",
       "      <td>Logistics &amp; Transportation</td>\n",
       "      <td>49.0</td>\n",
       "      <td>99.0 Million</td>\n",
       "      <td>75660.8425</td>\n",
       "      <td>Madison</td>\n",
       "      <td>WI</td>\n",
       "      <td>019877</td>\n",
       "      <td>United States</td>\n",
       "      <td>019877</td>\n",
       "      <td>019877</td>\n",
       "    </tr>\n",
       "    <tr>\n",
       "      <th>1</th>\n",
       "      <td>2.0</td>\n",
       "      <td>2018</td>\n",
       "      <td>PopSockets</td>\n",
       "      <td>Consumer Products &amp; Services</td>\n",
       "      <td>118.0</td>\n",
       "      <td>168.8 Million</td>\n",
       "      <td>71423.7620</td>\n",
       "      <td>Boulder</td>\n",
       "      <td>CO</td>\n",
       "      <td>015956</td>\n",
       "      <td>United States</td>\n",
       "      <td>015956</td>\n",
       "      <td>015956</td>\n",
       "    </tr>\n",
       "    <tr>\n",
       "      <th>2</th>\n",
       "      <td>3.0</td>\n",
       "      <td>2018</td>\n",
       "      <td>Home Chef</td>\n",
       "      <td>Food &amp; Beverage</td>\n",
       "      <td>865.0</td>\n",
       "      <td>255.0 Million</td>\n",
       "      <td>60165.5058</td>\n",
       "      <td>Chicago</td>\n",
       "      <td>IL</td>\n",
       "      <td>009633</td>\n",
       "      <td>United States</td>\n",
       "      <td>009633</td>\n",
       "      <td>009633</td>\n",
       "    </tr>\n",
       "    <tr>\n",
       "      <th>3</th>\n",
       "      <td>4.0</td>\n",
       "      <td>2018</td>\n",
       "      <td>Velocity Global</td>\n",
       "      <td>Business Products &amp; Services</td>\n",
       "      <td>55.0</td>\n",
       "      <td>49.2 Million</td>\n",
       "      <td>39816.5093</td>\n",
       "      <td>Denver</td>\n",
       "      <td>CO</td>\n",
       "      <td>022286</td>\n",
       "      <td>United States</td>\n",
       "      <td>022286</td>\n",
       "      <td>022286</td>\n",
       "    </tr>\n",
       "    <tr>\n",
       "      <th>4</th>\n",
       "      <td>5.0</td>\n",
       "      <td>2018</td>\n",
       "      <td>DEPCOM Power</td>\n",
       "      <td>Energy</td>\n",
       "      <td>104.0</td>\n",
       "      <td>219.6 Million</td>\n",
       "      <td>38962.9022</td>\n",
       "      <td>Scottsdale</td>\n",
       "      <td>AZ</td>\n",
       "      <td>005706</td>\n",
       "      <td>United States</td>\n",
       "      <td>005706</td>\n",
       "      <td>005706</td>\n",
       "    </tr>\n",
       "  </tbody>\n",
       "</table>\n",
       "</div>"
      ],
      "text/plain": [
       "   Rank Rank_year     Company_name                      Industry  \\\n",
       "0   1.0      2018         SwanLeap    Logistics & Transportation   \n",
       "1   2.0      2018       PopSockets  Consumer Products & Services   \n",
       "2   3.0      2018        Home Chef               Food & Beverage   \n",
       "3   4.0      2018  Velocity Global  Business Products & Services   \n",
       "4   5.0      2018     DEPCOM Power                        Energy   \n",
       "\n",
       "   Number_of_employees      Revenue_$  Growth_rate_%        City State  \\\n",
       "0                 49.0   99.0 Million     75660.8425     Madison    WI   \n",
       "1                118.0  168.8 Million     71423.7620     Boulder    CO   \n",
       "2                865.0  255.0 Million     60165.5058     Chicago    IL   \n",
       "3                 55.0   49.2 Million     39816.5093      Denver    CO   \n",
       "4                104.0  219.6 Million     38962.9022  Scottsdale    AZ   \n",
       "\n",
       "  Company_id        Country Company_Id Company_ID  \n",
       "0     019877  United States     019877     019877  \n",
       "1     015956  United States     015956     015956  \n",
       "2     009633  United States     009633     009633  \n",
       "3     022286  United States     022286     022286  \n",
       "4     005706  United States     005706     005706  "
      ]
     },
     "execution_count": 93,
     "metadata": {},
     "output_type": "execute_result"
    }
   ],
   "source": [
    "# Add the year column \n",
    "Inc_5000_df['Country']= 'United States'\n",
    "\n",
    "Inc_5000_df.head()"
   ]
  },
  {
   "cell_type": "markdown",
   "metadata": {},
   "source": [
    "# Load"
   ]
  },
  {
   "cell_type": "code",
   "execution_count": 5,
   "metadata": {},
   "outputs": [],
   "source": [
    "# Create database connection\n",
    "connection_string = \"postgres:postgres@localhost:5432/Inc_5000_db\"\n",
    "engine = create_engine(f'postgresql://{connection_string}')\n"
   ]
  },
  {
   "cell_type": "code",
   "execution_count": null,
   "metadata": {},
   "outputs": [],
   "source": []
  }
 ],
 "metadata": {
  "kernelspec": {
   "display_name": "Python 3",
   "language": "python",
   "name": "python3"
  },
  "language_info": {
   "codemirror_mode": {
    "name": "ipython",
    "version": 3
   },
   "file_extension": ".py",
   "mimetype": "text/x-python",
   "name": "python",
   "nbconvert_exporter": "python",
   "pygments_lexer": "ipython3",
   "version": "3.7.6"
  }
 },
 "nbformat": 4,
 "nbformat_minor": 4
}
