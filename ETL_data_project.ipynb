{
 "cells": [
  {
   "cell_type": "code",
   "execution_count": 1,
   "metadata": {},
   "outputs": [],
   "source": [
    "# Import Dependencies\n",
    "\n",
    "import pandas as pd\n",
    "import csv\n",
    "import sys, json\n",
    "from sqlalchemy import create_engine\n",
    "import psycopg2\n",
    "import pymongo\n",
    "import datetime\n",
    "import numpy as np\n",
    "np.random.seed(1)\n",
    "import requests\n",
    "from pprint import pprint\n",
    "import matplotlib.pyplot as plt\n",
    "from flask import jsonify\n",
    "import company_domain\n",
    "company_domain=company_domain.company_domain"
   ]
  },
  {
   "cell_type": "markdown",
   "metadata": {},
   "source": [
    "# Extraction"
   ]
  },
  {
   "cell_type": "markdown",
   "metadata": {},
   "source": [
    "### The path to CSV files to extract all Inc 5000 company list"
   ]
  },
  {
   "cell_type": "code",
   "execution_count": 2,
   "metadata": {},
   "outputs": [],
   "source": [
    "# The path to our CSV files to extract all Inc 5000 company list\n",
    "\n",
    "# 2019 Inc 5000 company list\n",
    "Inc_2019_csv = \"Resources/inc5000-2019.csv\"\n",
    "# 2018 Inc 5000 company list\n",
    "Inc_2018_csv = \"Resources/inc5000-2018.csv\"\n",
    "# 2007-2017 Inc 5000 company list\n",
    "Inc_10year_csv =\"Resources/inc5000_all10years.csv\"\n"
   ]
  },
  {
   "cell_type": "markdown",
   "metadata": {},
   "source": [
    "### Read the files"
   ]
  },
  {
   "cell_type": "code",
   "execution_count": 3,
   "metadata": {},
   "outputs": [],
   "source": [
    "# Read csv file\n",
    "# Read 2019 Inc 5000 company list\n",
    "Inc_2019_df = pd.read_csv(Inc_2019_csv)\n",
    "\n",
    "# Read 2018 Inc 5000 company list\n",
    "Inc_2018_df = pd.read_csv(Inc_2018_csv)\n",
    "\n",
    "\n",
    "# Read 2007-2017 Inc 5000 company list\n",
    "Inc_10year_df = pd.read_csv(Inc_10year_csv,encoding='cp1252')"
   ]
  },
  {
   "cell_type": "markdown",
   "metadata": {},
   "source": [
    "### Scraping Financial Times Americas Fastest Growing Companies 2020"
   ]
  },
  {
   "cell_type": "code",
   "execution_count": 4,
   "metadata": {},
   "outputs": [],
   "source": [
    "# Financial times url to scrape\n",
    "ft_url = 'https://www.ft.com/americas-fastest-growing-companies-2020'"
   ]
  },
  {
   "cell_type": "code",
   "execution_count": 5,
   "metadata": {},
   "outputs": [],
   "source": [
    "# read the html file for scarping tables \n",
    "ft_tables= pd.read_html(ft_url)"
   ]
  },
  {
   "cell_type": "code",
   "execution_count": 6,
   "metadata": {},
   "outputs": [
    {
     "data": {
      "text/plain": [
       "list"
      ]
     },
     "execution_count": 6,
     "metadata": {},
     "output_type": "execute_result"
    }
   ],
   "source": [
    "# check it's type\n",
    "type(ft_tables)"
   ]
  },
  {
   "cell_type": "code",
   "execution_count": 7,
   "metadata": {},
   "outputs": [
    {
     "data": {
      "text/plain": [
       "1"
      ]
     },
     "execution_count": 7,
     "metadata": {},
     "output_type": "execute_result"
    }
   ],
   "source": [
    "# Check how many tables are there \n",
    "len(ft_tables)"
   ]
  },
  {
   "cell_type": "code",
   "execution_count": 8,
   "metadata": {},
   "outputs": [],
   "source": [
    "# scrape the the first table \n",
    "ft_tables_df = ft_tables[0]\n"
   ]
  },
  {
   "cell_type": "code",
   "execution_count": 70,
   "metadata": {},
   "outputs": [
    {
     "data": {
      "text/html": [
       "<div>\n",
       "<style scoped>\n",
       "    .dataframe tbody tr th:only-of-type {\n",
       "        vertical-align: middle;\n",
       "    }\n",
       "\n",
       "    .dataframe tbody tr th {\n",
       "        vertical-align: top;\n",
       "    }\n",
       "\n",
       "    .dataframe thead th {\n",
       "        text-align: right;\n",
       "    }\n",
       "</style>\n",
       "<table border=\"1\" class=\"dataframe\">\n",
       "  <thead>\n",
       "    <tr style=\"text-align: right;\">\n",
       "      <th></th>\n",
       "      <th>rank</th>\n",
       "      <th>company_name</th>\n",
       "      <th>country</th>\n",
       "      <th>industry</th>\n",
       "      <th>growth_rate</th>\n",
       "      <th>compound_annual_growth_rate</th>\n",
       "      <th>founding_year</th>\n",
       "      <th>rank_year</th>\n",
       "    </tr>\n",
       "  </thead>\n",
       "  <tbody>\n",
       "    <tr>\n",
       "      <th>0</th>\n",
       "      <td>1</td>\n",
       "      <td>Niantic</td>\n",
       "      <td>United States</td>\n",
       "      <td>Games industry</td>\n",
       "      <td>180306.6</td>\n",
       "      <td>1117.4</td>\n",
       "      <td>2015</td>\n",
       "      <td>2020</td>\n",
       "    </tr>\n",
       "    <tr>\n",
       "      <th>1</th>\n",
       "      <td>2</td>\n",
       "      <td>UiPath</td>\n",
       "      <td>United States</td>\n",
       "      <td>Technology</td>\n",
       "      <td>37463.5</td>\n",
       "      <td>621.5</td>\n",
       "      <td>2005</td>\n",
       "      <td>2020</td>\n",
       "    </tr>\n",
       "    <tr>\n",
       "      <th>2</th>\n",
       "      <td>3</td>\n",
       "      <td>Publisher First (Freestar)</td>\n",
       "      <td>United States</td>\n",
       "      <td>Advertising</td>\n",
       "      <td>36680.1</td>\n",
       "      <td>616.5</td>\n",
       "      <td>2015</td>\n",
       "      <td>2020</td>\n",
       "    </tr>\n",
       "    <tr>\n",
       "      <th>3</th>\n",
       "      <td>4</td>\n",
       "      <td>FreightWise</td>\n",
       "      <td>United States</td>\n",
       "      <td>Transport</td>\n",
       "      <td>30547.9</td>\n",
       "      <td>574.2</td>\n",
       "      <td>2015</td>\n",
       "      <td>2020</td>\n",
       "    </tr>\n",
       "    <tr>\n",
       "      <th>4</th>\n",
       "      <td>5</td>\n",
       "      <td>Veggie Noodle Co.</td>\n",
       "      <td>United States</td>\n",
       "      <td>Food &amp; Beverage</td>\n",
       "      <td>24074.8</td>\n",
       "      <td>523.0</td>\n",
       "      <td>2015</td>\n",
       "      <td>2020</td>\n",
       "    </tr>\n",
       "  </tbody>\n",
       "</table>\n",
       "</div>"
      ],
      "text/plain": [
       "   rank                company_name        country         industry  \\\n",
       "0     1                     Niantic  United States   Games industry   \n",
       "1     2                      UiPath  United States       Technology   \n",
       "2     3  Publisher First (Freestar)  United States      Advertising   \n",
       "3     4                 FreightWise  United States        Transport   \n",
       "4     5           Veggie Noodle Co.  United States  Food & Beverage   \n",
       "\n",
       "   growth_rate  compound_annual_growth_rate  founding_year rank_year  \n",
       "0     180306.6                       1117.4           2015      2020  \n",
       "1      37463.5                        621.5           2005      2020  \n",
       "2      36680.1                        616.5           2015      2020  \n",
       "3      30547.9                        574.2           2015      2020  \n",
       "4      24074.8                        523.0           2015      2020  "
      ]
     },
     "execution_count": 70,
     "metadata": {},
     "output_type": "execute_result"
    }
   ],
   "source": [
    "# Transforming scraped data\n",
    "\n",
    "# Drop column we don't need\n",
    "drop_ft_columns=ft_tables_df.drop(['Revenue 2018 [in $m]','Revenue 2015 [in $m]','Number of employees 2018'], axis=1)\n",
    "\n",
    "\n",
    "# Remove unnecessary sign \"*\" from the first column \n",
    "\n",
    "drop_ft_columns['Name'] = drop_ft_columns['Name'].str.replace(r'*', '')\n",
    "\n",
    "# rename columns \n",
    "rename_ft_df=drop_ft_columns.rename(columns={\"Rank\":\"rank\",\"Name\":\"company_name\",\"FT category\":\"industry\",\"Absolute growth rate [in %]\":\"growth_rate\",\"Founding Year\":\"founding_year\",\"Compound annual growth rate (CAGR) [in %]\":\"compound_annual_growth_rate\",\"Country\":\"country\"})\n",
    "\n",
    "# Add the year column \n",
    "rename_ft_df['rank_year']= '2020'\n",
    "\n",
    "rename_ft_df['country']= 'United States'\n",
    "\n",
    "# drop null values Growth\n",
    "\n",
    "rename_ft_df=rename_ft_df.dropna(axis=1,how='all')\n",
    "\n",
    "# remove duplicates and show clean data\n",
    "\n",
    "clean_ft_df=rename_ft_df.drop_duplicates()\n",
    "clean_ft_df.head()"
   ]
  },
  {
   "cell_type": "markdown",
   "metadata": {},
   "source": [
    "### API Call for Scraping Growjo top 1000 fastest growing companies in 2020."
   ]
  },
  {
   "cell_type": "code",
   "execution_count": 72,
   "metadata": {},
   "outputs": [],
   "source": [
    "# API call from Growjo 10,000 - The Fastest Growing Companies list\n",
    "# We generated companies information based on domains. For example,\n",
    "# you could retrieve a company’s name, location, employee, estimated revenue and job openings from their domain name. \n",
    "\n",
    "\n",
    "# The base url to request the Api call \n",
    "base_url = \"https://growjo.com/api?url=\"\n",
    "\n",
    "# The information we want to extract \n",
    "ranking = []\n",
    "estimated_revenues = []\n",
    "company_name = []\n",
    "city = []\n",
    "country = []\n",
    "state = []\n",
    "employees = []\n",
    "founded = []\n",
    "industry = []\n",
    "total_funding = []\n",
    "\n",
    "# a list of domains imported as company_domain you can find the list in company_domain.py in the main folder\n",
    "\n",
    "\n",
    "# A for loop to get each domains and request information \n",
    "for domain in company_domain:\n",
    "    target_url = base_url + domain\n",
    "    data = requests.get(target_url)\n",
    "    try:\n",
    "        response = data.json()\n",
    "    except ValueError:\n",
    "        pass\n",
    "# append all requested information letter to retrive\n",
    "    ranking.append(response['ranking'])\n",
    "    estimated_revenues.append(response['estimated_revenues'])\n",
    "    company_name.append(response['company_name'])\n",
    "    founded.append(response['founded'])\n",
    "    city.append(response['city'])\n",
    "    country.append(response['country'])\n",
    "    state.append(response['state'])\n",
    "    employees.append(response['employees'])\n",
    "    industry.append(response['industry'])\n",
    "    total_funding.append(response['total_funding'])\n",
    "    "
   ]
  },
  {
   "cell_type": "code",
   "execution_count": 169,
   "metadata": {},
   "outputs": [],
   "source": [
    "# Crerate and store the information in dictionary  \n",
    "growjo_df = pd.DataFrame({\n",
    "    \"rank\":ranking,\n",
    "    \"revenue_$\":estimated_revenues,\n",
    "    \"company_name\": company_name,\n",
    "    \"city\":city,\n",
    "    \"founding_year\":founded,\n",
    "    \"country\":country,\n",
    "    \"state\":state,\n",
    "    \"number_of_employees\":employees,\n",
    "    \"industry\":industry,\n",
    "    \"total_funding\":total_funding\n",
    "})\n",
    "\n",
    "# Remove duplicate values\n",
    "growjo_df=growjo_df.drop_duplicates()\n",
    "#growjo_df.head()"
   ]
  },
  {
   "cell_type": "code",
   "execution_count": 170,
   "metadata": {},
   "outputs": [
    {
     "data": {
      "text/html": [
       "<div>\n",
       "<style scoped>\n",
       "    .dataframe tbody tr th:only-of-type {\n",
       "        vertical-align: middle;\n",
       "    }\n",
       "\n",
       "    .dataframe tbody tr th {\n",
       "        vertical-align: top;\n",
       "    }\n",
       "\n",
       "    .dataframe thead th {\n",
       "        text-align: right;\n",
       "    }\n",
       "</style>\n",
       "<table border=\"1\" class=\"dataframe\">\n",
       "  <thead>\n",
       "    <tr style=\"text-align: right;\">\n",
       "      <th></th>\n",
       "      <th>rank</th>\n",
       "      <th>revenue_$</th>\n",
       "      <th>company_name</th>\n",
       "      <th>city</th>\n",
       "      <th>founding_year</th>\n",
       "      <th>country</th>\n",
       "      <th>state</th>\n",
       "      <th>number_of_employees</th>\n",
       "      <th>industry</th>\n",
       "      <th>total_funding</th>\n",
       "      <th>rank_year</th>\n",
       "    </tr>\n",
       "  </thead>\n",
       "  <tbody>\n",
       "    <tr>\n",
       "      <th>0</th>\n",
       "      <td>1.0</td>\n",
       "      <td>36.5 Million</td>\n",
       "      <td>LetsGetChecked</td>\n",
       "      <td>New York</td>\n",
       "      <td>2014.0</td>\n",
       "      <td>United States</td>\n",
       "      <td>NY</td>\n",
       "      <td>135</td>\n",
       "      <td>Hospital/Healthcare</td>\n",
       "      <td>$113M</td>\n",
       "      <td>2020</td>\n",
       "    </tr>\n",
       "    <tr>\n",
       "      <th>1</th>\n",
       "      <td>701.0</td>\n",
       "      <td>13.1 Million</td>\n",
       "      <td>100 Thieves</td>\n",
       "      <td>Los Angeles</td>\n",
       "      <td>2017.0</td>\n",
       "      <td>United States</td>\n",
       "      <td>CA</td>\n",
       "      <td>64</td>\n",
       "      <td>Entertainment</td>\n",
       "      <td>None</td>\n",
       "      <td>2020</td>\n",
       "    </tr>\n",
       "    <tr>\n",
       "      <th>2</th>\n",
       "      <td>832.0</td>\n",
       "      <td>97.3 Million</td>\n",
       "      <td>10X Genomics</td>\n",
       "      <td>Pleasanton</td>\n",
       "      <td>2012.0</td>\n",
       "      <td>United States</td>\n",
       "      <td>CA</td>\n",
       "      <td>628</td>\n",
       "      <td>Biotech</td>\n",
       "      <td>$242.6M</td>\n",
       "      <td>2020</td>\n",
       "    </tr>\n",
       "    <tr>\n",
       "      <th>3</th>\n",
       "      <td>124.0</td>\n",
       "      <td>29.9 Million</td>\n",
       "      <td>15Five</td>\n",
       "      <td>San Francisco</td>\n",
       "      <td>2011.0</td>\n",
       "      <td>United States</td>\n",
       "      <td>CA</td>\n",
       "      <td>206</td>\n",
       "      <td>Tech Services</td>\n",
       "      <td>$42.1M</td>\n",
       "      <td>2020</td>\n",
       "    </tr>\n",
       "    <tr>\n",
       "      <th>4</th>\n",
       "      <td>941.0</td>\n",
       "      <td>10.8 Million</td>\n",
       "      <td>2ULaundry</td>\n",
       "      <td>Charlotte</td>\n",
       "      <td>2015.0</td>\n",
       "      <td>United States</td>\n",
       "      <td>NC</td>\n",
       "      <td>43</td>\n",
       "      <td>Consumer</td>\n",
       "      <td>None</td>\n",
       "      <td>2020</td>\n",
       "    </tr>\n",
       "  </tbody>\n",
       "</table>\n",
       "</div>"
      ],
      "text/plain": [
       "    rank     revenue_$    company_name           city  founding_year  \\\n",
       "0    1.0  36.5 Million  LetsGetChecked       New York         2014.0   \n",
       "1  701.0  13.1 Million     100 Thieves    Los Angeles         2017.0   \n",
       "2  832.0  97.3 Million    10X Genomics     Pleasanton         2012.0   \n",
       "3  124.0  29.9 Million          15Five  San Francisco         2011.0   \n",
       "4  941.0  10.8 Million       2ULaundry      Charlotte         2015.0   \n",
       "\n",
       "         country state  number_of_employees             industry  \\\n",
       "0  United States    NY                  135  Hospital/Healthcare   \n",
       "1  United States    CA                   64        Entertainment   \n",
       "2  United States    CA                  628              Biotech   \n",
       "3  United States    CA                  206        Tech Services   \n",
       "4  United States    NC                   43             Consumer   \n",
       "\n",
       "  total_funding rank_year  \n",
       "0         $113M      2020  \n",
       "1          None      2020  \n",
       "2       $242.6M      2020  \n",
       "3        $42.1M      2020  \n",
       "4          None      2020  "
      ]
     },
     "execution_count": 170,
     "metadata": {},
     "output_type": "execute_result"
    }
   ],
   "source": [
    "# Transforming Growjo top 1000 fastest growing companies in 2020\n",
    "# drop null values\n",
    "\n",
    "growjo_df=growjo_df.dropna(axis=1,how='all')\n",
    "# Add the year column \n",
    "growjo_df['rank_year']= '2020'\n",
    "\n",
    "\n",
    "# Normalizing revenue in to mellions \n",
    "growjo_df['revenue_$']= (growjo_df['revenue_$']/1000000).apply(lambda x: '{:,.1f} Million'.format(x))\n",
    "\n",
    "\n",
    "# remove duplicates and show clean data\n",
    "\n",
    "clean_growjo_df=growjo_df.drop_duplicates()\n",
    "clean_growjo_df.head()"
   ]
  },
  {
   "cell_type": "markdown",
   "metadata": {},
   "source": [
    "# Transforming"
   ]
  },
  {
   "cell_type": "markdown",
   "metadata": {},
   "source": [
    "### Cleaning 2019 Inc 5000 company list"
   ]
  },
  {
   "cell_type": "code",
   "execution_count": 171,
   "metadata": {},
   "outputs": [],
   "source": [
    "# Drop column we don't need\n",
    "drop_column_2019=Inc_2019_df.drop(['Profile','_ - previous_workers','_ - founded','_ - metro','url','_ - yrs_on_list'], axis=1)\n",
    "\n",
    "# Add the year column \n",
    "drop_column_2019['rank_year']= '2019'\n",
    "\n",
    "# Rename columns \n",
    "rename_df_2019= drop_column_2019.rename(columns={\"_ - rank\":\"rank\",\"name\":\"company_name\",\"state\":\"state\",\"_ - revenue\":\"revenue_$\",\"_ - growth\":\"growth_rate\",\"_ - industry\":\"industry\",\"_ - workers\":\"number_of_employees\",\"city\":\"city\"})\n",
    "\n",
    "\n",
    "# re-Order the data to suitable format\n",
    "\n",
    "cleaned_2019_df =rename_df_2019[['rank','rank_year','company_name','industry','number_of_employees','revenue_$','growth_rate','city','state']]\n",
    "#cleaned_2019_df.head()"
   ]
  },
  {
   "cell_type": "markdown",
   "metadata": {},
   "source": [
    "### Cleaning 2018 Inc 5000 company list"
   ]
  },
  {
   "cell_type": "code",
   "execution_count": 172,
   "metadata": {},
   "outputs": [],
   "source": [
    "# Drop column we don't need\n",
    "\n",
    "drop_column_2018=Inc_2018_df.drop(['_ - id','_ - zipcode','_ - ifmid','_ - latitude','_ - longitude','_ - website','_ - state_l','_ - metrocode','_ - ifiid','_ - previous_workers','_ - metro','_ - founded','_ - url','_ - partner_lists - partner_lists','_ - yrs_on_list'], axis=1)\n",
    "\n",
    "# Add the year column \n",
    "drop_column_2018['rank_year']= '2018'\n",
    "\n",
    "# Rename columns \n",
    "rename_df_2018=drop_column_2018.rename(columns={\"_ - rank\":\"rank\",\"_ - company\":\"company_name\",\"_ - state_s\":\"state\",\"_ - revenue\":\"revenue_$\",\"_ - growth\":\"growth_rate\",\"_ - industry\":\"industry\",\"_ - workers\":\"number_of_employees\",\"_ - state_l\":\"state\",\"_ - city\":\"city\"})\n",
    "rename_df_2018.head()\n",
    "\n",
    "# Normalizing revenue in to mellions \n",
    "rename_df_2018['revenue_$']= (rename_df_2018['revenue_$']/1000000).apply(lambda x: '{:,.1f} Million'.format(x))\n",
    "\n",
    "\n",
    "cleaned_2018_df =rename_df_2018[['rank','rank_year','company_name','industry','number_of_employees','revenue_$','growth_rate','city','state']]\n",
    "\n",
    "#cleaned_2018_df.head()\n"
   ]
  },
  {
   "cell_type": "markdown",
   "metadata": {},
   "source": [
    "### Cleaning 10 year (2007-2017) Inc 5000 company list"
   ]
  },
  {
   "cell_type": "code",
   "execution_count": 173,
   "metadata": {},
   "outputs": [],
   "source": [
    "# Rename columns \n",
    "\n",
    "drop_column_10year_df=Inc_10year_df.drop(['_ - state_l','_ - metro','_ - yrs_on_list'],axis=1)\n",
    "\n",
    "# Add the year column \n",
    "rename_10year_df=drop_column_10year_df.rename(columns={\"year\":\"rank_year\",\"_ - rank\":\"rank\",\"_ - company\":\"company_name\",\"_ - website\":\"company_Website\",\"_ - state_s\":\"state\",\"_ - revenue\":\"revenue_$\",\"_ - growth\":\"growth_rate\",\"_ - industry\":\"industry\",\"_ - workers\":\"number_of_employees\",\"_ - founded\":\"founded_Year\",\"_ - city\":\"city\"})\n",
    "\n",
    "\n",
    "# Normalizing revenue in to mellions \n",
    "rename_10year_df['revenue_$']= (rename_10year_df['revenue_$']/1000000).apply(lambda x: '{:,.1f} Million'.format(x))\n",
    "\n",
    "cleaned_10year_df =rename_10year_df[['rank','rank_year','company_name','industry','number_of_employees','revenue_$','growth_rate','city','state']]\n",
    "\n",
    "# cleaned_10year_df.head()\n",
    "\n",
    "\n"
   ]
  },
  {
   "cell_type": "markdown",
   "metadata": {},
   "source": [
    "### Combine all Inc 5000 data in to a single dataframe"
   ]
  },
  {
   "cell_type": "code",
   "execution_count": 174,
   "metadata": {},
   "outputs": [],
   "source": [
    "# combine Inc 5000 data in to a single dataframe\n",
    "combine_data =[cleaned_2018_df,cleaned_2019_df,cleaned_10year_df]\n",
    "Inc_5000_df= pd.concat(combine_data)"
   ]
  },
  {
   "cell_type": "code",
   "execution_count": 175,
   "metadata": {},
   "outputs": [
    {
     "data": {
      "text/html": [
       "<div>\n",
       "<style scoped>\n",
       "    .dataframe tbody tr th:only-of-type {\n",
       "        vertical-align: middle;\n",
       "    }\n",
       "\n",
       "    .dataframe tbody tr th {\n",
       "        vertical-align: top;\n",
       "    }\n",
       "\n",
       "    .dataframe thead th {\n",
       "        text-align: right;\n",
       "    }\n",
       "</style>\n",
       "<table border=\"1\" class=\"dataframe\">\n",
       "  <thead>\n",
       "    <tr style=\"text-align: right;\">\n",
       "      <th></th>\n",
       "      <th>rank</th>\n",
       "      <th>rank_year</th>\n",
       "      <th>company_name</th>\n",
       "      <th>industry</th>\n",
       "      <th>number_of_employees</th>\n",
       "      <th>revenue_$</th>\n",
       "      <th>growth_rate</th>\n",
       "      <th>city</th>\n",
       "      <th>state</th>\n",
       "      <th>country</th>\n",
       "    </tr>\n",
       "  </thead>\n",
       "  <tbody>\n",
       "    <tr>\n",
       "      <th>0</th>\n",
       "      <td>1.0</td>\n",
       "      <td>2018</td>\n",
       "      <td>SwanLeap</td>\n",
       "      <td>Logistics &amp; Transportation</td>\n",
       "      <td>49.0</td>\n",
       "      <td>99.0 Million</td>\n",
       "      <td>75660.8425</td>\n",
       "      <td>Madison</td>\n",
       "      <td>WI</td>\n",
       "      <td>United States</td>\n",
       "    </tr>\n",
       "    <tr>\n",
       "      <th>1</th>\n",
       "      <td>2.0</td>\n",
       "      <td>2018</td>\n",
       "      <td>PopSockets</td>\n",
       "      <td>Consumer Products &amp; Services</td>\n",
       "      <td>118.0</td>\n",
       "      <td>168.8 Million</td>\n",
       "      <td>71423.7620</td>\n",
       "      <td>Boulder</td>\n",
       "      <td>CO</td>\n",
       "      <td>United States</td>\n",
       "    </tr>\n",
       "    <tr>\n",
       "      <th>2</th>\n",
       "      <td>3.0</td>\n",
       "      <td>2018</td>\n",
       "      <td>Home Chef</td>\n",
       "      <td>Food &amp; Beverage</td>\n",
       "      <td>865.0</td>\n",
       "      <td>255.0 Million</td>\n",
       "      <td>60165.5058</td>\n",
       "      <td>Chicago</td>\n",
       "      <td>IL</td>\n",
       "      <td>United States</td>\n",
       "    </tr>\n",
       "    <tr>\n",
       "      <th>3</th>\n",
       "      <td>4.0</td>\n",
       "      <td>2018</td>\n",
       "      <td>Velocity Global</td>\n",
       "      <td>Business Products &amp; Services</td>\n",
       "      <td>55.0</td>\n",
       "      <td>49.2 Million</td>\n",
       "      <td>39816.5093</td>\n",
       "      <td>Denver</td>\n",
       "      <td>CO</td>\n",
       "      <td>United States</td>\n",
       "    </tr>\n",
       "    <tr>\n",
       "      <th>4</th>\n",
       "      <td>5.0</td>\n",
       "      <td>2018</td>\n",
       "      <td>DEPCOM Power</td>\n",
       "      <td>Energy</td>\n",
       "      <td>104.0</td>\n",
       "      <td>219.6 Million</td>\n",
       "      <td>38962.9022</td>\n",
       "      <td>Scottsdale</td>\n",
       "      <td>AZ</td>\n",
       "      <td>United States</td>\n",
       "    </tr>\n",
       "  </tbody>\n",
       "</table>\n",
       "</div>"
      ],
      "text/plain": [
       "   rank rank_year     company_name                      industry  \\\n",
       "0   1.0      2018         SwanLeap    Logistics & Transportation   \n",
       "1   2.0      2018       PopSockets  Consumer Products & Services   \n",
       "2   3.0      2018        Home Chef               Food & Beverage   \n",
       "3   4.0      2018  Velocity Global  Business Products & Services   \n",
       "4   5.0      2018     DEPCOM Power                        Energy   \n",
       "\n",
       "   number_of_employees      revenue_$  growth_rate        city state  \\\n",
       "0                 49.0   99.0 Million   75660.8425     Madison    WI   \n",
       "1                118.0  168.8 Million   71423.7620     Boulder    CO   \n",
       "2                865.0  255.0 Million   60165.5058     Chicago    IL   \n",
       "3                 55.0   49.2 Million   39816.5093      Denver    CO   \n",
       "4                104.0  219.6 Million   38962.9022  Scottsdale    AZ   \n",
       "\n",
       "         country  \n",
       "0  United States  \n",
       "1  United States  \n",
       "2  United States  \n",
       "3  United States  \n",
       "4  United States  "
      ]
     },
     "execution_count": 175,
     "metadata": {},
     "output_type": "execute_result"
    }
   ],
   "source": [
    "# Add the year column \n",
    "Inc_5000_df['country']= 'United States'\n",
    "Inc_5000_df.head()"
   ]
  },
  {
   "cell_type": "code",
   "execution_count": 88,
   "metadata": {},
   "outputs": [
    {
     "data": {
      "text/html": [
       "<div>\n",
       "<style scoped>\n",
       "    .dataframe tbody tr th:only-of-type {\n",
       "        vertical-align: middle;\n",
       "    }\n",
       "\n",
       "    .dataframe tbody tr th {\n",
       "        vertical-align: top;\n",
       "    }\n",
       "\n",
       "    .dataframe thead th {\n",
       "        text-align: right;\n",
       "    }\n",
       "</style>\n",
       "<table border=\"1\" class=\"dataframe\">\n",
       "  <thead>\n",
       "    <tr style=\"text-align: right;\">\n",
       "      <th></th>\n",
       "      <th>rank</th>\n",
       "      <th>rank_year</th>\n",
       "      <th>company_name</th>\n",
       "      <th>industry</th>\n",
       "      <th>number_of_employees</th>\n",
       "      <th>revenue_$</th>\n",
       "      <th>growth_rate</th>\n",
       "      <th>city</th>\n",
       "      <th>state</th>\n",
       "      <th>country</th>\n",
       "      <th>founding_year</th>\n",
       "      <th>total_funding</th>\n",
       "      <th>Rank_year</th>\n",
       "      <th>compound_annual_growth_rate</th>\n",
       "      <th>id</th>\n",
       "    </tr>\n",
       "  </thead>\n",
       "  <tbody>\n",
       "    <tr>\n",
       "      <th>0</th>\n",
       "      <td>1.0</td>\n",
       "      <td>2018</td>\n",
       "      <td>SwanLeap</td>\n",
       "      <td>Logistics &amp; Transportation</td>\n",
       "      <td>49.0</td>\n",
       "      <td>99.0 Million</td>\n",
       "      <td>75660.8425</td>\n",
       "      <td>Madison</td>\n",
       "      <td>WI</td>\n",
       "      <td>United States</td>\n",
       "      <td>NaN</td>\n",
       "      <td>NaN</td>\n",
       "      <td>NaN</td>\n",
       "      <td>NaN</td>\n",
       "      <td>020281</td>\n",
       "    </tr>\n",
       "    <tr>\n",
       "      <th>1</th>\n",
       "      <td>2.0</td>\n",
       "      <td>2018</td>\n",
       "      <td>PopSockets</td>\n",
       "      <td>Consumer Products &amp; Services</td>\n",
       "      <td>118.0</td>\n",
       "      <td>168.8 Million</td>\n",
       "      <td>71423.7620</td>\n",
       "      <td>Boulder</td>\n",
       "      <td>CO</td>\n",
       "      <td>United States</td>\n",
       "      <td>NaN</td>\n",
       "      <td>NaN</td>\n",
       "      <td>NaN</td>\n",
       "      <td>NaN</td>\n",
       "      <td>016296</td>\n",
       "    </tr>\n",
       "    <tr>\n",
       "      <th>2</th>\n",
       "      <td>3.0</td>\n",
       "      <td>2018</td>\n",
       "      <td>Home Chef</td>\n",
       "      <td>Food &amp; Beverage</td>\n",
       "      <td>865.0</td>\n",
       "      <td>255.0 Million</td>\n",
       "      <td>60165.5058</td>\n",
       "      <td>Chicago</td>\n",
       "      <td>IL</td>\n",
       "      <td>United States</td>\n",
       "      <td>NaN</td>\n",
       "      <td>NaN</td>\n",
       "      <td>NaN</td>\n",
       "      <td>NaN</td>\n",
       "      <td>009836</td>\n",
       "    </tr>\n",
       "    <tr>\n",
       "      <th>3</th>\n",
       "      <td>4.0</td>\n",
       "      <td>2018</td>\n",
       "      <td>Velocity Global</td>\n",
       "      <td>Business Products &amp; Services</td>\n",
       "      <td>55.0</td>\n",
       "      <td>49.2 Million</td>\n",
       "      <td>39816.5093</td>\n",
       "      <td>Denver</td>\n",
       "      <td>CO</td>\n",
       "      <td>United States</td>\n",
       "      <td>NaN</td>\n",
       "      <td>NaN</td>\n",
       "      <td>NaN</td>\n",
       "      <td>NaN</td>\n",
       "      <td>022718</td>\n",
       "    </tr>\n",
       "    <tr>\n",
       "      <th>4</th>\n",
       "      <td>5.0</td>\n",
       "      <td>2018</td>\n",
       "      <td>DEPCOM Power</td>\n",
       "      <td>Energy</td>\n",
       "      <td>104.0</td>\n",
       "      <td>219.6 Million</td>\n",
       "      <td>38962.9022</td>\n",
       "      <td>Scottsdale</td>\n",
       "      <td>AZ</td>\n",
       "      <td>United States</td>\n",
       "      <td>NaN</td>\n",
       "      <td>NaN</td>\n",
       "      <td>NaN</td>\n",
       "      <td>NaN</td>\n",
       "      <td>005863</td>\n",
       "    </tr>\n",
       "  </tbody>\n",
       "</table>\n",
       "</div>"
      ],
      "text/plain": [
       "   rank rank_year     company_name                      industry  \\\n",
       "0   1.0      2018         SwanLeap    Logistics & Transportation   \n",
       "1   2.0      2018       PopSockets  Consumer Products & Services   \n",
       "2   3.0      2018        Home Chef               Food & Beverage   \n",
       "3   4.0      2018  Velocity Global  Business Products & Services   \n",
       "4   5.0      2018     DEPCOM Power                        Energy   \n",
       "\n",
       "   number_of_employees      revenue_$  growth_rate        city state  \\\n",
       "0                 49.0   99.0 Million   75660.8425     Madison    WI   \n",
       "1                118.0  168.8 Million   71423.7620     Boulder    CO   \n",
       "2                865.0  255.0 Million   60165.5058     Chicago    IL   \n",
       "3                 55.0   49.2 Million   39816.5093      Denver    CO   \n",
       "4                104.0  219.6 Million   38962.9022  Scottsdale    AZ   \n",
       "\n",
       "         country  founding_year total_funding Rank_year  \\\n",
       "0  United States            NaN           NaN       NaN   \n",
       "1  United States            NaN           NaN       NaN   \n",
       "2  United States            NaN           NaN       NaN   \n",
       "3  United States            NaN           NaN       NaN   \n",
       "4  United States            NaN           NaN       NaN   \n",
       "\n",
       "   compound_annual_growth_rate      id  \n",
       "0                          NaN  020281  \n",
       "1                          NaN  016296  \n",
       "2                          NaN  009836  \n",
       "3                          NaN  022718  \n",
       "4                          NaN  005863  "
      ]
     },
     "execution_count": 88,
     "metadata": {},
     "output_type": "execute_result"
    }
   ],
   "source": [
    "# Merge all data in to a single dataframe\n",
    "merge_all =[Inc_5000_df,clean_growjo_df,clean_ft_df]\n",
    "merged_df= pd.concat(merge_all)\n",
    "merged_df.head()\n",
    "\n",
    "# Add unique id for company name \n",
    "id_df=merged_df.groupby(['company_name'], sort=True).ngroup().apply('{:006}'.format)\n",
    "\n",
    "merged_df['id']=id_df\n",
    "\n",
    "# Drop a duplicate value if there is any \n",
    "merged_df=merged_df.drop_duplicates('id')\n",
    "merged_df=merged_df.dropna(subset=['company_name','id','revenue_$','rank','rank_year','company_name','industry','number_of_employees','city','state','country'])\n",
    "\n",
    "\n",
    "merged_df.head()\n"
   ]
  },
  {
   "cell_type": "code",
   "execution_count": 177,
   "metadata": {},
   "outputs": [],
   "source": [
    "# Ready the tables in the way to load in postgres sql database\n",
    "\n",
    "# company table \n",
    "Company = merged_df[['id','company_name','number_of_employees','industry','city','state','country']]\n",
    "# drop null values from Id \n",
    "Company= Company.dropna(subset=['id'])\n",
    "# drop duplicate id\n",
    "Company = Company.drop_duplicates('id')\n",
    "Company.set_index(\"id\",inplace=True)\n",
    "\n",
    "# Ranks table \n",
    "Ranks=merged_df[['id','rank','rank_year']]\n",
    "Ranks.set_index(\"id\",inplace=True)\n",
    "\n",
    "# Groth table\n",
    "\n",
    "Growth=merged_df[['id','growth_rate','total_funding','compound_annual_growth_rate','revenue_$']]\n",
    "Growth.set_index(\"id\",inplace=True)"
   ]
  },
  {
   "cell_type": "markdown",
   "metadata": {},
   "source": [
    "# Load"
   ]
  },
  {
   "cell_type": "code",
   "execution_count": 178,
   "metadata": {},
   "outputs": [],
   "source": [
    "# Create database connection\n",
    "engine = create_engine('postgresql+psycopg2://postgres:216724401@2@localhost:5432/top-companies_db')\n",
    "connection = engine.connect()\n"
   ]
  },
  {
   "cell_type": "code",
   "execution_count": 179,
   "metadata": {},
   "outputs": [
    {
     "data": {
      "text/plain": [
       "['company', 'ranks', 'growth']"
      ]
     },
     "execution_count": 179,
     "metadata": {},
     "output_type": "execute_result"
    }
   ],
   "source": [
    "# confirm tables\n",
    "engine.table_names()"
   ]
  },
  {
   "cell_type": "code",
   "execution_count": 180,
   "metadata": {},
   "outputs": [
    {
     "ename": "IntegrityError",
     "evalue": "(psycopg2.errors.UniqueViolation) duplicate key value violates unique constraint \"pk_company\"\nDETAIL:  Key (id)=(20281) already exists.\n\n[SQL: INSERT INTO company (id, company_name, number_of_employees, industry, city, state, country) VALUES (%(id)s, %(company_name)s, %(number_of_employees)s, %(industry)s, %(city)s, %(state)s, %(country)s)]\n[parameters: ({'id': '020281', 'company_name': 'SwanLeap', 'number_of_employees': 49.0, 'industry': 'Logistics & Transportation', 'city': 'Madison', 'state': 'WI', 'country': 'United States'}, {'id': '016296', 'company_name': 'PopSockets', 'number_of_employees': 118.0, 'industry': 'Consumer Products & Services', 'city': 'Boulder', 'state': 'CO', 'country': 'United States'}, {'id': '009836', 'company_name': 'Home Chef', 'number_of_employees': 865.0, 'industry': 'Food & Beverage', 'city': 'Chicago', 'state': 'IL', 'country': 'United States'}, {'id': '022718', 'company_name': 'Velocity Global', 'number_of_employees': 55.0, 'industry': 'Business Products & Services', 'city': 'Denver', 'state': 'CO', 'country': 'United States'}, {'id': '005863', 'company_name': 'DEPCOM Power', 'number_of_employees': 104.0, 'industry': 'Energy', 'city': 'Scottsdale', 'state': 'AZ', 'country': 'United States'}, {'id': '001070', 'company_name': 'Aeronux Airways', 'number_of_employees': 17.0, 'industry': 'Logistics & Transportation', 'city': 'Marietta', 'state': 'GA', 'country': 'United States'}, {'id': '006290', 'company_name': 'Diamond Assets', 'number_of_employees': 41.0, 'industry': 'Computer Hardware', 'city': 'Milton', 'state': 'WI', 'country': 'United States'}, {'id': '008583', 'company_name': 'GForce Life Sciences', 'number_of_employees': 13.0, 'industry': 'Human Resources', 'city': 'Chicago', 'state': 'IL', 'country': 'United States'}  ... displaying 10 of 24125 total bound parameter sets ...  {'id': '017510', 'company_name': 'Recursion Pharmaceuticals', 'number_of_employees': 169.0, 'industry': 'Pharma', 'city': 'Salt Lake City', 'state': 'UT', 'country': 'United States'}, {'id': '017603', 'company_name': 'Relativity', 'number_of_employees': 154.0, 'industry': 'Aviation', 'city': 'Inglewood', 'state': 'CA', 'country': 'United States'})]\n(Background on this error at: http://sqlalche.me/e/gkpj)",
     "output_type": "error",
     "traceback": [
      "\u001b[0;31m---------------------------------------------------------------------------\u001b[0m",
      "\u001b[0;31mUniqueViolation\u001b[0m                           Traceback (most recent call last)",
      "\u001b[0;32m~/opt/anaconda3/lib/python3.7/site-packages/sqlalchemy/engine/base.py\u001b[0m in \u001b[0;36m_execute_context\u001b[0;34m(self, dialect, constructor, statement, parameters, *args)\u001b[0m\n\u001b[1;32m   1227\u001b[0m                     self.dialect.do_executemany(\n\u001b[0;32m-> 1228\u001b[0;31m                         \u001b[0mcursor\u001b[0m\u001b[0;34m,\u001b[0m \u001b[0mstatement\u001b[0m\u001b[0;34m,\u001b[0m \u001b[0mparameters\u001b[0m\u001b[0;34m,\u001b[0m \u001b[0mcontext\u001b[0m\u001b[0;34m\u001b[0m\u001b[0;34m\u001b[0m\u001b[0m\n\u001b[0m\u001b[1;32m   1229\u001b[0m                     )\n",
      "\u001b[0;32m~/opt/anaconda3/lib/python3.7/site-packages/sqlalchemy/dialects/postgresql/psycopg2.py\u001b[0m in \u001b[0;36mdo_executemany\u001b[0;34m(self, cursor, statement, parameters, context)\u001b[0m\n\u001b[1;32m    856\u001b[0m         \u001b[0;32mif\u001b[0m \u001b[0mself\u001b[0m\u001b[0;34m.\u001b[0m\u001b[0mexecutemany_mode\u001b[0m \u001b[0;32mis\u001b[0m \u001b[0mEXECUTEMANY_DEFAULT\u001b[0m\u001b[0;34m:\u001b[0m\u001b[0;34m\u001b[0m\u001b[0;34m\u001b[0m\u001b[0m\n\u001b[0;32m--> 857\u001b[0;31m             \u001b[0mcursor\u001b[0m\u001b[0;34m.\u001b[0m\u001b[0mexecutemany\u001b[0m\u001b[0;34m(\u001b[0m\u001b[0mstatement\u001b[0m\u001b[0;34m,\u001b[0m \u001b[0mparameters\u001b[0m\u001b[0;34m)\u001b[0m\u001b[0;34m\u001b[0m\u001b[0;34m\u001b[0m\u001b[0m\n\u001b[0m\u001b[1;32m    858\u001b[0m             \u001b[0;32mreturn\u001b[0m\u001b[0;34m\u001b[0m\u001b[0;34m\u001b[0m\u001b[0m\n",
      "\u001b[0;31mUniqueViolation\u001b[0m: duplicate key value violates unique constraint \"pk_company\"\nDETAIL:  Key (id)=(20281) already exists.\n",
      "\nThe above exception was the direct cause of the following exception:\n",
      "\u001b[0;31mIntegrityError\u001b[0m                            Traceback (most recent call last)",
      "\u001b[0;32m<ipython-input-180-959c5f065239>\u001b[0m in \u001b[0;36m<module>\u001b[0;34m\u001b[0m\n\u001b[0;32m----> 1\u001b[0;31m \u001b[0mCompany\u001b[0m\u001b[0;34m.\u001b[0m\u001b[0mto_sql\u001b[0m\u001b[0;34m(\u001b[0m\u001b[0mname\u001b[0m\u001b[0;34m=\u001b[0m\u001b[0;34m'company'\u001b[0m\u001b[0;34m,\u001b[0m\u001b[0mcon\u001b[0m\u001b[0;34m=\u001b[0m\u001b[0mengine\u001b[0m\u001b[0;34m,\u001b[0m \u001b[0mif_exists\u001b[0m\u001b[0;34m=\u001b[0m\u001b[0;34m'append'\u001b[0m\u001b[0;34m,\u001b[0m\u001b[0mindex\u001b[0m\u001b[0;34m=\u001b[0m\u001b[0;32mTrue\u001b[0m\u001b[0;34m)\u001b[0m\u001b[0;34m\u001b[0m\u001b[0;34m\u001b[0m\u001b[0m\n\u001b[0m",
      "\u001b[0;32m~/opt/anaconda3/lib/python3.7/site-packages/pandas/core/generic.py\u001b[0m in \u001b[0;36mto_sql\u001b[0;34m(self, name, con, schema, if_exists, index, index_label, chunksize, dtype, method)\u001b[0m\n\u001b[1;32m   2661\u001b[0m             \u001b[0mchunksize\u001b[0m\u001b[0;34m=\u001b[0m\u001b[0mchunksize\u001b[0m\u001b[0;34m,\u001b[0m\u001b[0;34m\u001b[0m\u001b[0;34m\u001b[0m\u001b[0m\n\u001b[1;32m   2662\u001b[0m             \u001b[0mdtype\u001b[0m\u001b[0;34m=\u001b[0m\u001b[0mdtype\u001b[0m\u001b[0;34m,\u001b[0m\u001b[0;34m\u001b[0m\u001b[0;34m\u001b[0m\u001b[0m\n\u001b[0;32m-> 2663\u001b[0;31m             \u001b[0mmethod\u001b[0m\u001b[0;34m=\u001b[0m\u001b[0mmethod\u001b[0m\u001b[0;34m,\u001b[0m\u001b[0;34m\u001b[0m\u001b[0;34m\u001b[0m\u001b[0m\n\u001b[0m\u001b[1;32m   2664\u001b[0m         )\n\u001b[1;32m   2665\u001b[0m \u001b[0;34m\u001b[0m\u001b[0m\n",
      "\u001b[0;32m~/opt/anaconda3/lib/python3.7/site-packages/pandas/io/sql.py\u001b[0m in \u001b[0;36mto_sql\u001b[0;34m(frame, name, con, schema, if_exists, index, index_label, chunksize, dtype, method)\u001b[0m\n\u001b[1;32m    519\u001b[0m         \u001b[0mchunksize\u001b[0m\u001b[0;34m=\u001b[0m\u001b[0mchunksize\u001b[0m\u001b[0;34m,\u001b[0m\u001b[0;34m\u001b[0m\u001b[0;34m\u001b[0m\u001b[0m\n\u001b[1;32m    520\u001b[0m         \u001b[0mdtype\u001b[0m\u001b[0;34m=\u001b[0m\u001b[0mdtype\u001b[0m\u001b[0;34m,\u001b[0m\u001b[0;34m\u001b[0m\u001b[0;34m\u001b[0m\u001b[0m\n\u001b[0;32m--> 521\u001b[0;31m         \u001b[0mmethod\u001b[0m\u001b[0;34m=\u001b[0m\u001b[0mmethod\u001b[0m\u001b[0;34m,\u001b[0m\u001b[0;34m\u001b[0m\u001b[0;34m\u001b[0m\u001b[0m\n\u001b[0m\u001b[1;32m    522\u001b[0m     )\n\u001b[1;32m    523\u001b[0m \u001b[0;34m\u001b[0m\u001b[0m\n",
      "\u001b[0;32m~/opt/anaconda3/lib/python3.7/site-packages/pandas/io/sql.py\u001b[0m in \u001b[0;36mto_sql\u001b[0;34m(self, frame, name, if_exists, index, index_label, schema, chunksize, dtype, method)\u001b[0m\n\u001b[1;32m   1315\u001b[0m         )\n\u001b[1;32m   1316\u001b[0m         \u001b[0mtable\u001b[0m\u001b[0;34m.\u001b[0m\u001b[0mcreate\u001b[0m\u001b[0;34m(\u001b[0m\u001b[0;34m)\u001b[0m\u001b[0;34m\u001b[0m\u001b[0;34m\u001b[0m\u001b[0m\n\u001b[0;32m-> 1317\u001b[0;31m         \u001b[0mtable\u001b[0m\u001b[0;34m.\u001b[0m\u001b[0minsert\u001b[0m\u001b[0;34m(\u001b[0m\u001b[0mchunksize\u001b[0m\u001b[0;34m,\u001b[0m \u001b[0mmethod\u001b[0m\u001b[0;34m=\u001b[0m\u001b[0mmethod\u001b[0m\u001b[0;34m)\u001b[0m\u001b[0;34m\u001b[0m\u001b[0;34m\u001b[0m\u001b[0m\n\u001b[0m\u001b[1;32m   1318\u001b[0m         \u001b[0;32mif\u001b[0m \u001b[0;32mnot\u001b[0m \u001b[0mname\u001b[0m\u001b[0;34m.\u001b[0m\u001b[0misdigit\u001b[0m\u001b[0;34m(\u001b[0m\u001b[0;34m)\u001b[0m \u001b[0;32mand\u001b[0m \u001b[0;32mnot\u001b[0m \u001b[0mname\u001b[0m\u001b[0;34m.\u001b[0m\u001b[0mislower\u001b[0m\u001b[0;34m(\u001b[0m\u001b[0;34m)\u001b[0m\u001b[0;34m:\u001b[0m\u001b[0;34m\u001b[0m\u001b[0;34m\u001b[0m\u001b[0m\n\u001b[1;32m   1319\u001b[0m             \u001b[0;31m# check for potentially case sensitivity issues (GH7815)\u001b[0m\u001b[0;34m\u001b[0m\u001b[0;34m\u001b[0m\u001b[0;34m\u001b[0m\u001b[0m\n",
      "\u001b[0;32m~/opt/anaconda3/lib/python3.7/site-packages/pandas/io/sql.py\u001b[0m in \u001b[0;36minsert\u001b[0;34m(self, chunksize, method)\u001b[0m\n\u001b[1;32m    753\u001b[0m \u001b[0;34m\u001b[0m\u001b[0m\n\u001b[1;32m    754\u001b[0m                 \u001b[0mchunk_iter\u001b[0m \u001b[0;34m=\u001b[0m \u001b[0mzip\u001b[0m\u001b[0;34m(\u001b[0m\u001b[0;34m*\u001b[0m\u001b[0;34m[\u001b[0m\u001b[0marr\u001b[0m\u001b[0;34m[\u001b[0m\u001b[0mstart_i\u001b[0m\u001b[0;34m:\u001b[0m\u001b[0mend_i\u001b[0m\u001b[0;34m]\u001b[0m \u001b[0;32mfor\u001b[0m \u001b[0marr\u001b[0m \u001b[0;32min\u001b[0m \u001b[0mdata_list\u001b[0m\u001b[0;34m]\u001b[0m\u001b[0;34m)\u001b[0m\u001b[0;34m\u001b[0m\u001b[0;34m\u001b[0m\u001b[0m\n\u001b[0;32m--> 755\u001b[0;31m                 \u001b[0mexec_insert\u001b[0m\u001b[0;34m(\u001b[0m\u001b[0mconn\u001b[0m\u001b[0;34m,\u001b[0m \u001b[0mkeys\u001b[0m\u001b[0;34m,\u001b[0m \u001b[0mchunk_iter\u001b[0m\u001b[0;34m)\u001b[0m\u001b[0;34m\u001b[0m\u001b[0;34m\u001b[0m\u001b[0m\n\u001b[0m\u001b[1;32m    756\u001b[0m \u001b[0;34m\u001b[0m\u001b[0m\n\u001b[1;32m    757\u001b[0m     def _query_iterator(\n",
      "\u001b[0;32m~/opt/anaconda3/lib/python3.7/site-packages/pandas/io/sql.py\u001b[0m in \u001b[0;36m_execute_insert\u001b[0;34m(self, conn, keys, data_iter)\u001b[0m\n\u001b[1;32m    667\u001b[0m         \"\"\"\n\u001b[1;32m    668\u001b[0m         \u001b[0mdata\u001b[0m \u001b[0;34m=\u001b[0m \u001b[0;34m[\u001b[0m\u001b[0mdict\u001b[0m\u001b[0;34m(\u001b[0m\u001b[0mzip\u001b[0m\u001b[0;34m(\u001b[0m\u001b[0mkeys\u001b[0m\u001b[0;34m,\u001b[0m \u001b[0mrow\u001b[0m\u001b[0;34m)\u001b[0m\u001b[0;34m)\u001b[0m \u001b[0;32mfor\u001b[0m \u001b[0mrow\u001b[0m \u001b[0;32min\u001b[0m \u001b[0mdata_iter\u001b[0m\u001b[0;34m]\u001b[0m\u001b[0;34m\u001b[0m\u001b[0;34m\u001b[0m\u001b[0m\n\u001b[0;32m--> 669\u001b[0;31m         \u001b[0mconn\u001b[0m\u001b[0;34m.\u001b[0m\u001b[0mexecute\u001b[0m\u001b[0;34m(\u001b[0m\u001b[0mself\u001b[0m\u001b[0;34m.\u001b[0m\u001b[0mtable\u001b[0m\u001b[0;34m.\u001b[0m\u001b[0minsert\u001b[0m\u001b[0;34m(\u001b[0m\u001b[0;34m)\u001b[0m\u001b[0;34m,\u001b[0m \u001b[0mdata\u001b[0m\u001b[0;34m)\u001b[0m\u001b[0;34m\u001b[0m\u001b[0;34m\u001b[0m\u001b[0m\n\u001b[0m\u001b[1;32m    670\u001b[0m \u001b[0;34m\u001b[0m\u001b[0m\n\u001b[1;32m    671\u001b[0m     \u001b[0;32mdef\u001b[0m \u001b[0m_execute_insert_multi\u001b[0m\u001b[0;34m(\u001b[0m\u001b[0mself\u001b[0m\u001b[0;34m,\u001b[0m \u001b[0mconn\u001b[0m\u001b[0;34m,\u001b[0m \u001b[0mkeys\u001b[0m\u001b[0;34m,\u001b[0m \u001b[0mdata_iter\u001b[0m\u001b[0;34m)\u001b[0m\u001b[0;34m:\u001b[0m\u001b[0;34m\u001b[0m\u001b[0;34m\u001b[0m\u001b[0m\n",
      "\u001b[0;32m~/opt/anaconda3/lib/python3.7/site-packages/sqlalchemy/engine/base.py\u001b[0m in \u001b[0;36mexecute\u001b[0;34m(self, object_, *multiparams, **params)\u001b[0m\n\u001b[1;32m    982\u001b[0m             )\n\u001b[1;32m    983\u001b[0m         \u001b[0;32melse\u001b[0m\u001b[0;34m:\u001b[0m\u001b[0;34m\u001b[0m\u001b[0;34m\u001b[0m\u001b[0m\n\u001b[0;32m--> 984\u001b[0;31m             \u001b[0;32mreturn\u001b[0m \u001b[0mmeth\u001b[0m\u001b[0;34m(\u001b[0m\u001b[0mself\u001b[0m\u001b[0;34m,\u001b[0m \u001b[0mmultiparams\u001b[0m\u001b[0;34m,\u001b[0m \u001b[0mparams\u001b[0m\u001b[0;34m)\u001b[0m\u001b[0;34m\u001b[0m\u001b[0;34m\u001b[0m\u001b[0m\n\u001b[0m\u001b[1;32m    985\u001b[0m \u001b[0;34m\u001b[0m\u001b[0m\n\u001b[1;32m    986\u001b[0m     \u001b[0;32mdef\u001b[0m \u001b[0m_execute_function\u001b[0m\u001b[0;34m(\u001b[0m\u001b[0mself\u001b[0m\u001b[0;34m,\u001b[0m \u001b[0mfunc\u001b[0m\u001b[0;34m,\u001b[0m \u001b[0mmultiparams\u001b[0m\u001b[0;34m,\u001b[0m \u001b[0mparams\u001b[0m\u001b[0;34m)\u001b[0m\u001b[0;34m:\u001b[0m\u001b[0;34m\u001b[0m\u001b[0;34m\u001b[0m\u001b[0m\n",
      "\u001b[0;32m~/opt/anaconda3/lib/python3.7/site-packages/sqlalchemy/sql/elements.py\u001b[0m in \u001b[0;36m_execute_on_connection\u001b[0;34m(self, connection, multiparams, params)\u001b[0m\n\u001b[1;32m    291\u001b[0m     \u001b[0;32mdef\u001b[0m \u001b[0m_execute_on_connection\u001b[0m\u001b[0;34m(\u001b[0m\u001b[0mself\u001b[0m\u001b[0;34m,\u001b[0m \u001b[0mconnection\u001b[0m\u001b[0;34m,\u001b[0m \u001b[0mmultiparams\u001b[0m\u001b[0;34m,\u001b[0m \u001b[0mparams\u001b[0m\u001b[0;34m)\u001b[0m\u001b[0;34m:\u001b[0m\u001b[0;34m\u001b[0m\u001b[0;34m\u001b[0m\u001b[0m\n\u001b[1;32m    292\u001b[0m         \u001b[0;32mif\u001b[0m \u001b[0mself\u001b[0m\u001b[0;34m.\u001b[0m\u001b[0msupports_execution\u001b[0m\u001b[0;34m:\u001b[0m\u001b[0;34m\u001b[0m\u001b[0;34m\u001b[0m\u001b[0m\n\u001b[0;32m--> 293\u001b[0;31m             \u001b[0;32mreturn\u001b[0m \u001b[0mconnection\u001b[0m\u001b[0;34m.\u001b[0m\u001b[0m_execute_clauseelement\u001b[0m\u001b[0;34m(\u001b[0m\u001b[0mself\u001b[0m\u001b[0;34m,\u001b[0m \u001b[0mmultiparams\u001b[0m\u001b[0;34m,\u001b[0m \u001b[0mparams\u001b[0m\u001b[0;34m)\u001b[0m\u001b[0;34m\u001b[0m\u001b[0;34m\u001b[0m\u001b[0m\n\u001b[0m\u001b[1;32m    294\u001b[0m         \u001b[0;32melse\u001b[0m\u001b[0;34m:\u001b[0m\u001b[0;34m\u001b[0m\u001b[0;34m\u001b[0m\u001b[0m\n\u001b[1;32m    295\u001b[0m             \u001b[0;32mraise\u001b[0m \u001b[0mexc\u001b[0m\u001b[0;34m.\u001b[0m\u001b[0mObjectNotExecutableError\u001b[0m\u001b[0;34m(\u001b[0m\u001b[0mself\u001b[0m\u001b[0;34m)\u001b[0m\u001b[0;34m\u001b[0m\u001b[0;34m\u001b[0m\u001b[0m\n",
      "\u001b[0;32m~/opt/anaconda3/lib/python3.7/site-packages/sqlalchemy/engine/base.py\u001b[0m in \u001b[0;36m_execute_clauseelement\u001b[0;34m(self, elem, multiparams, params)\u001b[0m\n\u001b[1;32m   1101\u001b[0m             \u001b[0mdistilled_params\u001b[0m\u001b[0;34m,\u001b[0m\u001b[0;34m\u001b[0m\u001b[0;34m\u001b[0m\u001b[0m\n\u001b[1;32m   1102\u001b[0m             \u001b[0mcompiled_sql\u001b[0m\u001b[0;34m,\u001b[0m\u001b[0;34m\u001b[0m\u001b[0;34m\u001b[0m\u001b[0m\n\u001b[0;32m-> 1103\u001b[0;31m             \u001b[0mdistilled_params\u001b[0m\u001b[0;34m,\u001b[0m\u001b[0;34m\u001b[0m\u001b[0;34m\u001b[0m\u001b[0m\n\u001b[0m\u001b[1;32m   1104\u001b[0m         )\n\u001b[1;32m   1105\u001b[0m         \u001b[0;32mif\u001b[0m \u001b[0mself\u001b[0m\u001b[0;34m.\u001b[0m\u001b[0m_has_events\u001b[0m \u001b[0;32mor\u001b[0m \u001b[0mself\u001b[0m\u001b[0;34m.\u001b[0m\u001b[0mengine\u001b[0m\u001b[0;34m.\u001b[0m\u001b[0m_has_events\u001b[0m\u001b[0;34m:\u001b[0m\u001b[0;34m\u001b[0m\u001b[0;34m\u001b[0m\u001b[0m\n",
      "\u001b[0;32m~/opt/anaconda3/lib/python3.7/site-packages/sqlalchemy/engine/base.py\u001b[0m in \u001b[0;36m_execute_context\u001b[0;34m(self, dialect, constructor, statement, parameters, *args)\u001b[0m\n\u001b[1;32m   1286\u001b[0m         \u001b[0;32mexcept\u001b[0m \u001b[0mBaseException\u001b[0m \u001b[0;32mas\u001b[0m \u001b[0me\u001b[0m\u001b[0;34m:\u001b[0m\u001b[0;34m\u001b[0m\u001b[0;34m\u001b[0m\u001b[0m\n\u001b[1;32m   1287\u001b[0m             self._handle_dbapi_exception(\n\u001b[0;32m-> 1288\u001b[0;31m                 \u001b[0me\u001b[0m\u001b[0;34m,\u001b[0m \u001b[0mstatement\u001b[0m\u001b[0;34m,\u001b[0m \u001b[0mparameters\u001b[0m\u001b[0;34m,\u001b[0m \u001b[0mcursor\u001b[0m\u001b[0;34m,\u001b[0m \u001b[0mcontext\u001b[0m\u001b[0;34m\u001b[0m\u001b[0;34m\u001b[0m\u001b[0m\n\u001b[0m\u001b[1;32m   1289\u001b[0m             )\n\u001b[1;32m   1290\u001b[0m \u001b[0;34m\u001b[0m\u001b[0m\n",
      "\u001b[0;32m~/opt/anaconda3/lib/python3.7/site-packages/sqlalchemy/engine/base.py\u001b[0m in \u001b[0;36m_handle_dbapi_exception\u001b[0;34m(self, e, statement, parameters, cursor, context)\u001b[0m\n\u001b[1;32m   1480\u001b[0m             \u001b[0;32melif\u001b[0m \u001b[0mshould_wrap\u001b[0m\u001b[0;34m:\u001b[0m\u001b[0;34m\u001b[0m\u001b[0;34m\u001b[0m\u001b[0m\n\u001b[1;32m   1481\u001b[0m                 util.raise_(\n\u001b[0;32m-> 1482\u001b[0;31m                     \u001b[0msqlalchemy_exception\u001b[0m\u001b[0;34m,\u001b[0m \u001b[0mwith_traceback\u001b[0m\u001b[0;34m=\u001b[0m\u001b[0mexc_info\u001b[0m\u001b[0;34m[\u001b[0m\u001b[0;36m2\u001b[0m\u001b[0;34m]\u001b[0m\u001b[0;34m,\u001b[0m \u001b[0mfrom_\u001b[0m\u001b[0;34m=\u001b[0m\u001b[0me\u001b[0m\u001b[0;34m\u001b[0m\u001b[0;34m\u001b[0m\u001b[0m\n\u001b[0m\u001b[1;32m   1483\u001b[0m                 )\n\u001b[1;32m   1484\u001b[0m             \u001b[0;32melse\u001b[0m\u001b[0;34m:\u001b[0m\u001b[0;34m\u001b[0m\u001b[0;34m\u001b[0m\u001b[0m\n",
      "\u001b[0;32m~/opt/anaconda3/lib/python3.7/site-packages/sqlalchemy/util/compat.py\u001b[0m in \u001b[0;36mraise_\u001b[0;34m(***failed resolving arguments***)\u001b[0m\n\u001b[1;32m    176\u001b[0m \u001b[0;34m\u001b[0m\u001b[0m\n\u001b[1;32m    177\u001b[0m         \u001b[0;32mtry\u001b[0m\u001b[0;34m:\u001b[0m\u001b[0;34m\u001b[0m\u001b[0;34m\u001b[0m\u001b[0m\n\u001b[0;32m--> 178\u001b[0;31m             \u001b[0;32mraise\u001b[0m \u001b[0mexception\u001b[0m\u001b[0;34m\u001b[0m\u001b[0;34m\u001b[0m\u001b[0m\n\u001b[0m\u001b[1;32m    179\u001b[0m         \u001b[0;32mfinally\u001b[0m\u001b[0;34m:\u001b[0m\u001b[0;34m\u001b[0m\u001b[0;34m\u001b[0m\u001b[0m\n\u001b[1;32m    180\u001b[0m             \u001b[0;31m# credit to\u001b[0m\u001b[0;34m\u001b[0m\u001b[0;34m\u001b[0m\u001b[0;34m\u001b[0m\u001b[0m\n",
      "\u001b[0;32m~/opt/anaconda3/lib/python3.7/site-packages/sqlalchemy/engine/base.py\u001b[0m in \u001b[0;36m_execute_context\u001b[0;34m(self, dialect, constructor, statement, parameters, *args)\u001b[0m\n\u001b[1;32m   1226\u001b[0m                 \u001b[0;32mif\u001b[0m \u001b[0;32mnot\u001b[0m \u001b[0mevt_handled\u001b[0m\u001b[0;34m:\u001b[0m\u001b[0;34m\u001b[0m\u001b[0;34m\u001b[0m\u001b[0m\n\u001b[1;32m   1227\u001b[0m                     self.dialect.do_executemany(\n\u001b[0;32m-> 1228\u001b[0;31m                         \u001b[0mcursor\u001b[0m\u001b[0;34m,\u001b[0m \u001b[0mstatement\u001b[0m\u001b[0;34m,\u001b[0m \u001b[0mparameters\u001b[0m\u001b[0;34m,\u001b[0m \u001b[0mcontext\u001b[0m\u001b[0;34m\u001b[0m\u001b[0;34m\u001b[0m\u001b[0m\n\u001b[0m\u001b[1;32m   1229\u001b[0m                     )\n\u001b[1;32m   1230\u001b[0m             \u001b[0;32melif\u001b[0m \u001b[0;32mnot\u001b[0m \u001b[0mparameters\u001b[0m \u001b[0;32mand\u001b[0m \u001b[0mcontext\u001b[0m\u001b[0;34m.\u001b[0m\u001b[0mno_parameters\u001b[0m\u001b[0;34m:\u001b[0m\u001b[0;34m\u001b[0m\u001b[0;34m\u001b[0m\u001b[0m\n",
      "\u001b[0;32m~/opt/anaconda3/lib/python3.7/site-packages/sqlalchemy/dialects/postgresql/psycopg2.py\u001b[0m in \u001b[0;36mdo_executemany\u001b[0;34m(self, cursor, statement, parameters, context)\u001b[0m\n\u001b[1;32m    855\u001b[0m     \u001b[0;32mdef\u001b[0m \u001b[0mdo_executemany\u001b[0m\u001b[0;34m(\u001b[0m\u001b[0mself\u001b[0m\u001b[0;34m,\u001b[0m \u001b[0mcursor\u001b[0m\u001b[0;34m,\u001b[0m \u001b[0mstatement\u001b[0m\u001b[0;34m,\u001b[0m \u001b[0mparameters\u001b[0m\u001b[0;34m,\u001b[0m \u001b[0mcontext\u001b[0m\u001b[0;34m=\u001b[0m\u001b[0;32mNone\u001b[0m\u001b[0;34m)\u001b[0m\u001b[0;34m:\u001b[0m\u001b[0;34m\u001b[0m\u001b[0;34m\u001b[0m\u001b[0m\n\u001b[1;32m    856\u001b[0m         \u001b[0;32mif\u001b[0m \u001b[0mself\u001b[0m\u001b[0;34m.\u001b[0m\u001b[0mexecutemany_mode\u001b[0m \u001b[0;32mis\u001b[0m \u001b[0mEXECUTEMANY_DEFAULT\u001b[0m\u001b[0;34m:\u001b[0m\u001b[0;34m\u001b[0m\u001b[0;34m\u001b[0m\u001b[0m\n\u001b[0;32m--> 857\u001b[0;31m             \u001b[0mcursor\u001b[0m\u001b[0;34m.\u001b[0m\u001b[0mexecutemany\u001b[0m\u001b[0;34m(\u001b[0m\u001b[0mstatement\u001b[0m\u001b[0;34m,\u001b[0m \u001b[0mparameters\u001b[0m\u001b[0;34m)\u001b[0m\u001b[0;34m\u001b[0m\u001b[0;34m\u001b[0m\u001b[0m\n\u001b[0m\u001b[1;32m    858\u001b[0m             \u001b[0;32mreturn\u001b[0m\u001b[0;34m\u001b[0m\u001b[0;34m\u001b[0m\u001b[0m\n\u001b[1;32m    859\u001b[0m \u001b[0;34m\u001b[0m\u001b[0m\n",
      "\u001b[0;31mIntegrityError\u001b[0m: (psycopg2.errors.UniqueViolation) duplicate key value violates unique constraint \"pk_company\"\nDETAIL:  Key (id)=(20281) already exists.\n\n[SQL: INSERT INTO company (id, company_name, number_of_employees, industry, city, state, country) VALUES (%(id)s, %(company_name)s, %(number_of_employees)s, %(industry)s, %(city)s, %(state)s, %(country)s)]\n[parameters: ({'id': '020281', 'company_name': 'SwanLeap', 'number_of_employees': 49.0, 'industry': 'Logistics & Transportation', 'city': 'Madison', 'state': 'WI', 'country': 'United States'}, {'id': '016296', 'company_name': 'PopSockets', 'number_of_employees': 118.0, 'industry': 'Consumer Products & Services', 'city': 'Boulder', 'state': 'CO', 'country': 'United States'}, {'id': '009836', 'company_name': 'Home Chef', 'number_of_employees': 865.0, 'industry': 'Food & Beverage', 'city': 'Chicago', 'state': 'IL', 'country': 'United States'}, {'id': '022718', 'company_name': 'Velocity Global', 'number_of_employees': 55.0, 'industry': 'Business Products & Services', 'city': 'Denver', 'state': 'CO', 'country': 'United States'}, {'id': '005863', 'company_name': 'DEPCOM Power', 'number_of_employees': 104.0, 'industry': 'Energy', 'city': 'Scottsdale', 'state': 'AZ', 'country': 'United States'}, {'id': '001070', 'company_name': 'Aeronux Airways', 'number_of_employees': 17.0, 'industry': 'Logistics & Transportation', 'city': 'Marietta', 'state': 'GA', 'country': 'United States'}, {'id': '006290', 'company_name': 'Diamond Assets', 'number_of_employees': 41.0, 'industry': 'Computer Hardware', 'city': 'Milton', 'state': 'WI', 'country': 'United States'}, {'id': '008583', 'company_name': 'GForce Life Sciences', 'number_of_employees': 13.0, 'industry': 'Human Resources', 'city': 'Chicago', 'state': 'IL', 'country': 'United States'}  ... displaying 10 of 24125 total bound parameter sets ...  {'id': '017510', 'company_name': 'Recursion Pharmaceuticals', 'number_of_employees': 169.0, 'industry': 'Pharma', 'city': 'Salt Lake City', 'state': 'UT', 'country': 'United States'}, {'id': '017603', 'company_name': 'Relativity', 'number_of_employees': 154.0, 'industry': 'Aviation', 'city': 'Inglewood', 'state': 'CA', 'country': 'United States'})]\n(Background on this error at: http://sqlalche.me/e/gkpj)"
     ]
    }
   ],
   "source": [
    "Company.to_sql(name='company',con=engine, if_exists='append',index=True)"
   ]
  },
  {
   "cell_type": "code",
   "execution_count": null,
   "metadata": {},
   "outputs": [],
   "source": [
    "Ranks.to_sql(name='ranks',con=engine, if_exists='append',index=True)"
   ]
  },
  {
   "cell_type": "code",
   "execution_count": null,
   "metadata": {},
   "outputs": [],
   "source": [
    "Growth.to_sql(name='growth',con=engine, if_exists='append',index=True)"
   ]
  },
  {
   "cell_type": "code",
   "execution_count": null,
   "metadata": {},
   "outputs": [],
   "source": [
    "pd.read_sql_query('select * from company', con=engine).head()"
   ]
  },
  {
   "cell_type": "code",
   "execution_count": null,
   "metadata": {},
   "outputs": [],
   "source": [
    "pd.read_sql_query('select * from ranks', con=engine).head()"
   ]
  },
  {
   "cell_type": "code",
   "execution_count": null,
   "metadata": {},
   "outputs": [],
   "source": [
    "pd.read_sql_query('select * from growth', con=engine).head()"
   ]
  },
  {
   "cell_type": "code",
   "execution_count": null,
   "metadata": {},
   "outputs": [],
   "source": []
  },
  {
   "cell_type": "code",
   "execution_count": null,
   "metadata": {},
   "outputs": [],
   "source": []
  }
 ],
 "metadata": {
  "kernelspec": {
   "display_name": "Python 3",
   "language": "python",
   "name": "python3"
  },
  "language_info": {
   "codemirror_mode": {
    "name": "ipython",
    "version": 3
   },
   "file_extension": ".py",
   "mimetype": "text/x-python",
   "name": "python",
   "nbconvert_exporter": "python",
   "pygments_lexer": "ipython3",
   "version": "3.7.6"
  }
 },
 "nbformat": 4,
 "nbformat_minor": 4
}
